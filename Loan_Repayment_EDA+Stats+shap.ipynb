{
  "nbformat": 4,
  "nbformat_minor": 0,
  "metadata": {
    "colab": {
      "provenance": []
    },
    "kernelspec": {
      "name": "python3",
      "display_name": "Python 3"
    },
    "language_info": {
      "name": "python"
    }
  },
  "cells": [
    {
      "cell_type": "code",
      "source": [
        "!pip install shap"
      ],
      "metadata": {
        "colab": {
          "base_uri": "https://localhost:8080/"
        },
        "id": "i80FY_9AdsTL",
        "outputId": "ae00d0e1-5244-46d0-ea39-bac4fedd2403"
      },
      "execution_count": 366,
      "outputs": [
        {
          "output_type": "stream",
          "name": "stdout",
          "text": [
            "Looking in indexes: https://pypi.org/simple, https://us-python.pkg.dev/colab-wheels/public/simple/\n",
            "Requirement already satisfied: shap in /usr/local/lib/python3.8/dist-packages (0.41.0)\n",
            "Requirement already satisfied: scikit-learn in /usr/local/lib/python3.8/dist-packages (from shap) (1.0.2)\n",
            "Requirement already satisfied: packaging>20.9 in /usr/local/lib/python3.8/dist-packages (from shap) (21.3)\n",
            "Requirement already satisfied: pandas in /usr/local/lib/python3.8/dist-packages (from shap) (1.3.5)\n",
            "Requirement already satisfied: scipy in /usr/local/lib/python3.8/dist-packages (from shap) (1.7.3)\n",
            "Requirement already satisfied: numpy in /usr/local/lib/python3.8/dist-packages (from shap) (1.21.6)\n",
            "Requirement already satisfied: slicer==0.0.7 in /usr/local/lib/python3.8/dist-packages (from shap) (0.0.7)\n",
            "Requirement already satisfied: tqdm>4.25.0 in /usr/local/lib/python3.8/dist-packages (from shap) (4.64.1)\n",
            "Requirement already satisfied: numba in /usr/local/lib/python3.8/dist-packages (from shap) (0.56.4)\n",
            "Requirement already satisfied: cloudpickle in /usr/local/lib/python3.8/dist-packages (from shap) (2.2.0)\n",
            "Requirement already satisfied: pyparsing!=3.0.5,>=2.0.2 in /usr/local/lib/python3.8/dist-packages (from packaging>20.9->shap) (3.0.9)\n",
            "Requirement already satisfied: llvmlite<0.40,>=0.39.0dev0 in /usr/local/lib/python3.8/dist-packages (from numba->shap) (0.39.1)\n",
            "Requirement already satisfied: setuptools in /usr/local/lib/python3.8/dist-packages (from numba->shap) (57.4.0)\n",
            "Requirement already satisfied: importlib-metadata in /usr/local/lib/python3.8/dist-packages (from numba->shap) (6.0.0)\n",
            "Requirement already satisfied: python-dateutil>=2.7.3 in /usr/local/lib/python3.8/dist-packages (from pandas->shap) (2.8.2)\n",
            "Requirement already satisfied: pytz>=2017.3 in /usr/local/lib/python3.8/dist-packages (from pandas->shap) (2022.7)\n",
            "Requirement already satisfied: joblib>=0.11 in /usr/local/lib/python3.8/dist-packages (from scikit-learn->shap) (1.2.0)\n",
            "Requirement already satisfied: threadpoolctl>=2.0.0 in /usr/local/lib/python3.8/dist-packages (from scikit-learn->shap) (3.1.0)\n",
            "Requirement already satisfied: six>=1.5 in /usr/local/lib/python3.8/dist-packages (from python-dateutil>=2.7.3->pandas->shap) (1.15.0)\n",
            "Requirement already satisfied: zipp>=0.5 in /usr/local/lib/python3.8/dist-packages (from importlib-metadata->numba->shap) (3.11.0)\n"
          ]
        }
      ]
    },
    {
      "cell_type": "code",
      "execution_count": 367,
      "metadata": {
        "id": "ph0veaSide7o"
      },
      "outputs": [],
      "source": [
        "import shap  \n",
        "import pandas as pd\n",
        "import numpy as np\n",
        "import seaborn as sns\n",
        "sns.set_style('darkgrid')\n",
        "import matplotlib.pyplot as plt\n",
        "from wordcloud import WordCloud, STOPWORDS\n",
        "\n",
        "from sklearn.linear_model import LogisticRegression\n",
        "from sklearn.preprocessing import StandardScaler\n",
        "from sklearn.metrics import confusion_matrix, classification_report\n",
        "\n",
        "import xgboost as xgb\n",
        "from sklearn.svm import SVC\n",
        "from sklearn import svm\n",
        "from sklearn.tree import DecisionTreeClassifier\n",
        "from sklearn.preprocessing import StandardScaler\n",
        "from sklearn.ensemble import RandomForestClassifier, GradientBoostingClassifier\n",
        "from sklearn.ensemble import ExtraTreesClassifier\n",
        "from sklearn.linear_model import LogisticRegression \n",
        "from sklearn.preprocessing import RobustScaler\n",
        "from tensorflow import keras\n",
        "import lightgbm as lgb\n",
        "from lightgbm import *\n",
        "from sklearn.preprocessing import LabelEncoder\n",
        "import tensorflow \n",
        "from xgboost import XGBClassifier\n",
        "from sklearn.neural_network import MLPClassifier\n",
        "from sklearn.neighbors import KNeighborsClassifier\n",
        "\n",
        "## Model evaluators\n",
        "\n",
        "from sklearn import datasets, metrics, model_selection\n",
        "from sklearn.preprocessing import OneHotEncoder,StandardScaler\n",
        "from sklearn.model_selection import train_test_split, cross_val_score\n",
        "from sklearn.model_selection import RandomizedSearchCV, GridSearchCV\n",
        "from sklearn.model_selection import KFold\n",
        "from sklearn.metrics import confusion_matrix, classification_report\n",
        "from sklearn.metrics import precision_score, recall_score, f1_score\n",
        "from sklearn.metrics import plot_roc_curve\n",
        "from sklearn.metrics import PrecisionRecallDisplay\n",
        "from sklearn.metrics import accuracy_score, classification_report,ConfusionMatrixDisplay,precision_score, recall_score, f1_score, roc_auc_score,roc_curve,confusion_matrix\n",
        "\n",
        "from sklearn.metrics import roc_auc_score\n",
        "\n",
        "import warnings\n",
        "warnings.filterwarnings('ignore')"
      ]
    },
    {
      "cell_type": "code",
      "source": [
        "df = pd.read_csv(r\"/content/Track_1.csv\",index_col=0)\n",
        "test_data = pd.read_csv(r\"/content/testing_data.csv\")\n",
        "df.head()"
      ],
      "metadata": {
        "colab": {
          "base_uri": "https://localhost:8080/",
          "height": 612
        },
        "id": "103PNvzIdpMw",
        "outputId": "746f5a90-192b-4dc4-84fc-a95c93f32fc9"
      },
      "execution_count": 368,
      "outputs": [
        {
          "output_type": "execute_result",
          "data": {
            "text/plain": [
              "   Number of people who will provide maintenance  \\\n",
              "0                                              1   \n",
              "1                                              1   \n",
              "2                                              1   \n",
              "3                                              1   \n",
              "4                                              1   \n",
              "\n",
              "                                        Loan History  \\\n",
              "0  critical account/other loans existing (not at ...   \n",
              "1             existing loans paid back duly till now   \n",
              "2             existing loans paid back duly till now   \n",
              "3             existing loans paid back duly till now   \n",
              "4  critical account/other loans existing (not at ...   \n",
              "\n",
              "         Purpose of taking loan  loan amount taken Guarantor or Debtor  \\\n",
              "0              New Car Purchase               1028                none   \n",
              "1  Purchase of radio/television              10222                none   \n",
              "2  Purchase of radio/television                701                none   \n",
              "3  Purchase of radio/television               1670                none   \n",
              "4              New Car Purchase               1163                none   \n",
              "\n",
              "  Number of years of employment                         Marital Status  \\\n",
              "0         between 1 and 4 years  female and divorced/seperated/married   \n",
              "1          greater than 4 years                        male and single   \n",
              "2         between 1 and 4 years               male and married/widowed   \n",
              "3              less than a year  female and divorced/seperated/married   \n",
              "4         between 1 and 4 years                        male and single   \n",
              "\n",
              "   Number of loans taken from current bank  \\\n",
              "0                                        2   \n",
              "1                                        1   \n",
              "2                                        1   \n",
              "3                                        1   \n",
              "4                                        1   \n",
              "\n",
              "   Age of the applicant in Number of Years amount in current account  ...  \\\n",
              "0                                       36        no current account  ...   \n",
              "1                                       37        no current account  ...   \n",
              "2                                       40               less than 0  ...   \n",
              "3                                       22         between 0 and 200  ...   \n",
              "4                                       44        no current account  ...   \n",
              "\n",
              "  Other loans plans taken  Working abroad or not  \\\n",
              "0                    none                    Yes   \n",
              "1                  stores                    Yes   \n",
              "2                    none                    Yes   \n",
              "3                    none                    Yes   \n",
              "4                    none                    Yes   \n",
              "\n",
              "  Is there telephone number available time duration for loan  \\\n",
              "0                                  No                     18   \n",
              "1                                 Yes                     48   \n",
              "2                                  No                     12   \n",
              "3                                 Yes                      9   \n",
              "4                                 Yes                     12   \n",
              "\n",
              "          Owned property        Type of job performed Type of Housing  \\\n",
              "0            Real Estate  skilled employee / official             own   \n",
              "1  car or other property  skilled employee / official             own   \n",
              "2            Real Estate         unskilled - resident             own   \n",
              "3  car or other property  skilled employee / official             own   \n",
              "4            Real Estate  skilled employee / official             own   \n",
              "\n",
              "  Number of years of stay in current address Loan Defaulted or not  \\\n",
              "0                                          3                     1   \n",
              "1                                          3                     1   \n",
              "2                                          2                     1   \n",
              "3                                          2                     2   \n",
              "4                                          4                     1   \n",
              "\n",
              "       1=defaulted  \n",
              "0  2=not defaulted  \n",
              "1              NaN  \n",
              "2              NaN  \n",
              "3              NaN  \n",
              "4              NaN  \n",
              "\n",
              "[5 rows x 22 columns]"
            ],
            "text/html": [
              "\n",
              "  <div id=\"df-f32c7552-823b-4296-89d7-0b393b90577b\">\n",
              "    <div class=\"colab-df-container\">\n",
              "      <div>\n",
              "<style scoped>\n",
              "    .dataframe tbody tr th:only-of-type {\n",
              "        vertical-align: middle;\n",
              "    }\n",
              "\n",
              "    .dataframe tbody tr th {\n",
              "        vertical-align: top;\n",
              "    }\n",
              "\n",
              "    .dataframe thead th {\n",
              "        text-align: right;\n",
              "    }\n",
              "</style>\n",
              "<table border=\"1\" class=\"dataframe\">\n",
              "  <thead>\n",
              "    <tr style=\"text-align: right;\">\n",
              "      <th></th>\n",
              "      <th>Number of people who will provide maintenance</th>\n",
              "      <th>Loan History</th>\n",
              "      <th>Purpose of taking loan</th>\n",
              "      <th>loan amount taken</th>\n",
              "      <th>Guarantor or Debtor</th>\n",
              "      <th>Number of years of employment</th>\n",
              "      <th>Marital Status</th>\n",
              "      <th>Number of loans taken from current bank</th>\n",
              "      <th>Age of the applicant in Number of Years</th>\n",
              "      <th>amount in current account</th>\n",
              "      <th>...</th>\n",
              "      <th>Other loans plans taken</th>\n",
              "      <th>Working abroad or not</th>\n",
              "      <th>Is there telephone number available</th>\n",
              "      <th>time duration for loan</th>\n",
              "      <th>Owned property</th>\n",
              "      <th>Type of job performed</th>\n",
              "      <th>Type of Housing</th>\n",
              "      <th>Number of years of stay in current address</th>\n",
              "      <th>Loan Defaulted or not</th>\n",
              "      <th>1=defaulted</th>\n",
              "    </tr>\n",
              "  </thead>\n",
              "  <tbody>\n",
              "    <tr>\n",
              "      <th>0</th>\n",
              "      <td>1</td>\n",
              "      <td>critical account/other loans existing (not at ...</td>\n",
              "      <td>New Car Purchase</td>\n",
              "      <td>1028</td>\n",
              "      <td>none</td>\n",
              "      <td>between 1 and 4 years</td>\n",
              "      <td>female and divorced/seperated/married</td>\n",
              "      <td>2</td>\n",
              "      <td>36</td>\n",
              "      <td>no current account</td>\n",
              "      <td>...</td>\n",
              "      <td>none</td>\n",
              "      <td>Yes</td>\n",
              "      <td>No</td>\n",
              "      <td>18</td>\n",
              "      <td>Real Estate</td>\n",
              "      <td>skilled employee / official</td>\n",
              "      <td>own</td>\n",
              "      <td>3</td>\n",
              "      <td>1</td>\n",
              "      <td>2=not defaulted</td>\n",
              "    </tr>\n",
              "    <tr>\n",
              "      <th>1</th>\n",
              "      <td>1</td>\n",
              "      <td>existing loans paid back duly till now</td>\n",
              "      <td>Purchase of radio/television</td>\n",
              "      <td>10222</td>\n",
              "      <td>none</td>\n",
              "      <td>greater than 4 years</td>\n",
              "      <td>male and single</td>\n",
              "      <td>1</td>\n",
              "      <td>37</td>\n",
              "      <td>no current account</td>\n",
              "      <td>...</td>\n",
              "      <td>stores</td>\n",
              "      <td>Yes</td>\n",
              "      <td>Yes</td>\n",
              "      <td>48</td>\n",
              "      <td>car or other property</td>\n",
              "      <td>skilled employee / official</td>\n",
              "      <td>own</td>\n",
              "      <td>3</td>\n",
              "      <td>1</td>\n",
              "      <td>NaN</td>\n",
              "    </tr>\n",
              "    <tr>\n",
              "      <th>2</th>\n",
              "      <td>1</td>\n",
              "      <td>existing loans paid back duly till now</td>\n",
              "      <td>Purchase of radio/television</td>\n",
              "      <td>701</td>\n",
              "      <td>none</td>\n",
              "      <td>between 1 and 4 years</td>\n",
              "      <td>male and married/widowed</td>\n",
              "      <td>1</td>\n",
              "      <td>40</td>\n",
              "      <td>less than 0</td>\n",
              "      <td>...</td>\n",
              "      <td>none</td>\n",
              "      <td>Yes</td>\n",
              "      <td>No</td>\n",
              "      <td>12</td>\n",
              "      <td>Real Estate</td>\n",
              "      <td>unskilled - resident</td>\n",
              "      <td>own</td>\n",
              "      <td>2</td>\n",
              "      <td>1</td>\n",
              "      <td>NaN</td>\n",
              "    </tr>\n",
              "    <tr>\n",
              "      <th>3</th>\n",
              "      <td>1</td>\n",
              "      <td>existing loans paid back duly till now</td>\n",
              "      <td>Purchase of radio/television</td>\n",
              "      <td>1670</td>\n",
              "      <td>none</td>\n",
              "      <td>less than a year</td>\n",
              "      <td>female and divorced/seperated/married</td>\n",
              "      <td>1</td>\n",
              "      <td>22</td>\n",
              "      <td>between 0 and 200</td>\n",
              "      <td>...</td>\n",
              "      <td>none</td>\n",
              "      <td>Yes</td>\n",
              "      <td>Yes</td>\n",
              "      <td>9</td>\n",
              "      <td>car or other property</td>\n",
              "      <td>skilled employee / official</td>\n",
              "      <td>own</td>\n",
              "      <td>2</td>\n",
              "      <td>2</td>\n",
              "      <td>NaN</td>\n",
              "    </tr>\n",
              "    <tr>\n",
              "      <th>4</th>\n",
              "      <td>1</td>\n",
              "      <td>critical account/other loans existing (not at ...</td>\n",
              "      <td>New Car Purchase</td>\n",
              "      <td>1163</td>\n",
              "      <td>none</td>\n",
              "      <td>between 1 and 4 years</td>\n",
              "      <td>male and single</td>\n",
              "      <td>1</td>\n",
              "      <td>44</td>\n",
              "      <td>no current account</td>\n",
              "      <td>...</td>\n",
              "      <td>none</td>\n",
              "      <td>Yes</td>\n",
              "      <td>Yes</td>\n",
              "      <td>12</td>\n",
              "      <td>Real Estate</td>\n",
              "      <td>skilled employee / official</td>\n",
              "      <td>own</td>\n",
              "      <td>4</td>\n",
              "      <td>1</td>\n",
              "      <td>NaN</td>\n",
              "    </tr>\n",
              "  </tbody>\n",
              "</table>\n",
              "<p>5 rows × 22 columns</p>\n",
              "</div>\n",
              "      <button class=\"colab-df-convert\" onclick=\"convertToInteractive('df-f32c7552-823b-4296-89d7-0b393b90577b')\"\n",
              "              title=\"Convert this dataframe to an interactive table.\"\n",
              "              style=\"display:none;\">\n",
              "        \n",
              "  <svg xmlns=\"http://www.w3.org/2000/svg\" height=\"24px\"viewBox=\"0 0 24 24\"\n",
              "       width=\"24px\">\n",
              "    <path d=\"M0 0h24v24H0V0z\" fill=\"none\"/>\n",
              "    <path d=\"M18.56 5.44l.94 2.06.94-2.06 2.06-.94-2.06-.94-.94-2.06-.94 2.06-2.06.94zm-11 1L8.5 8.5l.94-2.06 2.06-.94-2.06-.94L8.5 2.5l-.94 2.06-2.06.94zm10 10l.94 2.06.94-2.06 2.06-.94-2.06-.94-.94-2.06-.94 2.06-2.06.94z\"/><path d=\"M17.41 7.96l-1.37-1.37c-.4-.4-.92-.59-1.43-.59-.52 0-1.04.2-1.43.59L10.3 9.45l-7.72 7.72c-.78.78-.78 2.05 0 2.83L4 21.41c.39.39.9.59 1.41.59.51 0 1.02-.2 1.41-.59l7.78-7.78 2.81-2.81c.8-.78.8-2.07 0-2.86zM5.41 20L4 18.59l7.72-7.72 1.47 1.35L5.41 20z\"/>\n",
              "  </svg>\n",
              "      </button>\n",
              "      \n",
              "  <style>\n",
              "    .colab-df-container {\n",
              "      display:flex;\n",
              "      flex-wrap:wrap;\n",
              "      gap: 12px;\n",
              "    }\n",
              "\n",
              "    .colab-df-convert {\n",
              "      background-color: #E8F0FE;\n",
              "      border: none;\n",
              "      border-radius: 50%;\n",
              "      cursor: pointer;\n",
              "      display: none;\n",
              "      fill: #1967D2;\n",
              "      height: 32px;\n",
              "      padding: 0 0 0 0;\n",
              "      width: 32px;\n",
              "    }\n",
              "\n",
              "    .colab-df-convert:hover {\n",
              "      background-color: #E2EBFA;\n",
              "      box-shadow: 0px 1px 2px rgba(60, 64, 67, 0.3), 0px 1px 3px 1px rgba(60, 64, 67, 0.15);\n",
              "      fill: #174EA6;\n",
              "    }\n",
              "\n",
              "    [theme=dark] .colab-df-convert {\n",
              "      background-color: #3B4455;\n",
              "      fill: #D2E3FC;\n",
              "    }\n",
              "\n",
              "    [theme=dark] .colab-df-convert:hover {\n",
              "      background-color: #434B5C;\n",
              "      box-shadow: 0px 1px 3px 1px rgba(0, 0, 0, 0.15);\n",
              "      filter: drop-shadow(0px 1px 2px rgba(0, 0, 0, 0.3));\n",
              "      fill: #FFFFFF;\n",
              "    }\n",
              "  </style>\n",
              "\n",
              "      <script>\n",
              "        const buttonEl =\n",
              "          document.querySelector('#df-f32c7552-823b-4296-89d7-0b393b90577b button.colab-df-convert');\n",
              "        buttonEl.style.display =\n",
              "          google.colab.kernel.accessAllowed ? 'block' : 'none';\n",
              "\n",
              "        async function convertToInteractive(key) {\n",
              "          const element = document.querySelector('#df-f32c7552-823b-4296-89d7-0b393b90577b');\n",
              "          const dataTable =\n",
              "            await google.colab.kernel.invokeFunction('convertToInteractive',\n",
              "                                                     [key], {});\n",
              "          if (!dataTable) return;\n",
              "\n",
              "          const docLinkHtml = 'Like what you see? Visit the ' +\n",
              "            '<a target=\"_blank\" href=https://colab.research.google.com/notebooks/data_table.ipynb>data table notebook</a>'\n",
              "            + ' to learn more about interactive tables.';\n",
              "          element.innerHTML = '';\n",
              "          dataTable['output_type'] = 'display_data';\n",
              "          await google.colab.output.renderOutput(dataTable, element);\n",
              "          const docLink = document.createElement('div');\n",
              "          docLink.innerHTML = docLinkHtml;\n",
              "          element.appendChild(docLink);\n",
              "        }\n",
              "      </script>\n",
              "    </div>\n",
              "  </div>\n",
              "  "
            ]
          },
          "metadata": {},
          "execution_count": 368
        }
      ]
    },
    {
      "cell_type": "markdown",
      "source": [
        "Inferential & Descriptive Statistics"
      ],
      "metadata": {
        "id": "IedtQk_wd8JX"
      }
    },
    {
      "cell_type": "code",
      "source": [
        "df['Loan Defaulted or not'].value_counts()"
      ],
      "metadata": {
        "colab": {
          "base_uri": "https://localhost:8080/"
        },
        "id": "lZYg6bfpHOlH",
        "outputId": "6f369152-392b-464f-ae8b-dd9c0d4dbbb4"
      },
      "execution_count": 369,
      "outputs": [
        {
          "output_type": "execute_result",
          "data": {
            "text/plain": [
              "1    422\n",
              "2    178\n",
              "Name: Loan Defaulted or not, dtype: int64"
            ]
          },
          "metadata": {},
          "execution_count": 369
        }
      ]
    },
    {
      "cell_type": "code",
      "source": [
        "test_data.head(2)"
      ],
      "metadata": {
        "colab": {
          "base_uri": "https://localhost:8080/",
          "height": 413
        },
        "id": "5DbIF_A2DrlS",
        "outputId": "08cc9126-7cc9-405b-e2f1-d5d52806b50f"
      },
      "execution_count": 370,
      "outputs": [
        {
          "output_type": "execute_result",
          "data": {
            "text/plain": [
              "   Unnamed: 0  Number of people who will provide maintenance  \\\n",
              "0         600                                              1   \n",
              "1         601                                              1   \n",
              "\n",
              "                                        Loan History  \\\n",
              "0             existing loans paid back duly till now   \n",
              "1  critical account/other loans existing (not at ...   \n",
              "\n",
              "         Purpose of taking loan  loan amount taken Guarantor or Debtor  \\\n",
              "0  Purchase of radio/television               1278                none   \n",
              "1                Old Car Repair              11590                none   \n",
              "\n",
              "  Number of years of employment                         Marital Status  \\\n",
              "0                           NaN                        male and single   \n",
              "1         between 1 and 4 years  female and divorced/seperated/married   \n",
              "\n",
              "   Number of loans taken from current bank  \\\n",
              "0                                        1   \n",
              "1                                        2   \n",
              "\n",
              "   Age of the applicant in Number of Years  ...  \\\n",
              "0                                       36  ...   \n",
              "1                                       24  ...   \n",
              "\n",
              "  % of income paid as installment Other loans plans taken  \\\n",
              "0                               4                    none   \n",
              "1                               2                    bank   \n",
              "\n",
              "   Working abroad or not Is there telephone number available  \\\n",
              "0                    Yes                                 Yes   \n",
              "1                    Yes                                  No   \n",
              "\n",
              "  time duration for loan         Owned property  \\\n",
              "0                     24            Real Estate   \n",
              "1                     48  car or other property   \n",
              "\n",
              "                               Type of job performed Type of Housing  \\\n",
              "0  management/ self-employed/highly qualified emp...             own   \n",
              "1                               unskilled - resident            rent   \n",
              "\n",
              "  Number of years of stay in current address Loan Defaulted or not  \n",
              "0                                          1                   NaN  \n",
              "1                                          4                   NaN  \n",
              "\n",
              "[2 rows x 22 columns]"
            ],
            "text/html": [
              "\n",
              "  <div id=\"df-adf7c4a2-a140-43be-8d6d-a6474eba3550\">\n",
              "    <div class=\"colab-df-container\">\n",
              "      <div>\n",
              "<style scoped>\n",
              "    .dataframe tbody tr th:only-of-type {\n",
              "        vertical-align: middle;\n",
              "    }\n",
              "\n",
              "    .dataframe tbody tr th {\n",
              "        vertical-align: top;\n",
              "    }\n",
              "\n",
              "    .dataframe thead th {\n",
              "        text-align: right;\n",
              "    }\n",
              "</style>\n",
              "<table border=\"1\" class=\"dataframe\">\n",
              "  <thead>\n",
              "    <tr style=\"text-align: right;\">\n",
              "      <th></th>\n",
              "      <th>Unnamed: 0</th>\n",
              "      <th>Number of people who will provide maintenance</th>\n",
              "      <th>Loan History</th>\n",
              "      <th>Purpose of taking loan</th>\n",
              "      <th>loan amount taken</th>\n",
              "      <th>Guarantor or Debtor</th>\n",
              "      <th>Number of years of employment</th>\n",
              "      <th>Marital Status</th>\n",
              "      <th>Number of loans taken from current bank</th>\n",
              "      <th>Age of the applicant in Number of Years</th>\n",
              "      <th>...</th>\n",
              "      <th>% of income paid as installment</th>\n",
              "      <th>Other loans plans taken</th>\n",
              "      <th>Working abroad or not</th>\n",
              "      <th>Is there telephone number available</th>\n",
              "      <th>time duration for loan</th>\n",
              "      <th>Owned property</th>\n",
              "      <th>Type of job performed</th>\n",
              "      <th>Type of Housing</th>\n",
              "      <th>Number of years of stay in current address</th>\n",
              "      <th>Loan Defaulted or not</th>\n",
              "    </tr>\n",
              "  </thead>\n",
              "  <tbody>\n",
              "    <tr>\n",
              "      <th>0</th>\n",
              "      <td>600</td>\n",
              "      <td>1</td>\n",
              "      <td>existing loans paid back duly till now</td>\n",
              "      <td>Purchase of radio/television</td>\n",
              "      <td>1278</td>\n",
              "      <td>none</td>\n",
              "      <td>NaN</td>\n",
              "      <td>male and single</td>\n",
              "      <td>1</td>\n",
              "      <td>36</td>\n",
              "      <td>...</td>\n",
              "      <td>4</td>\n",
              "      <td>none</td>\n",
              "      <td>Yes</td>\n",
              "      <td>Yes</td>\n",
              "      <td>24</td>\n",
              "      <td>Real Estate</td>\n",
              "      <td>management/ self-employed/highly qualified emp...</td>\n",
              "      <td>own</td>\n",
              "      <td>1</td>\n",
              "      <td>NaN</td>\n",
              "    </tr>\n",
              "    <tr>\n",
              "      <th>1</th>\n",
              "      <td>601</td>\n",
              "      <td>1</td>\n",
              "      <td>critical account/other loans existing (not at ...</td>\n",
              "      <td>Old Car Repair</td>\n",
              "      <td>11590</td>\n",
              "      <td>none</td>\n",
              "      <td>between 1 and 4 years</td>\n",
              "      <td>female and divorced/seperated/married</td>\n",
              "      <td>2</td>\n",
              "      <td>24</td>\n",
              "      <td>...</td>\n",
              "      <td>2</td>\n",
              "      <td>bank</td>\n",
              "      <td>Yes</td>\n",
              "      <td>No</td>\n",
              "      <td>48</td>\n",
              "      <td>car or other property</td>\n",
              "      <td>unskilled - resident</td>\n",
              "      <td>rent</td>\n",
              "      <td>4</td>\n",
              "      <td>NaN</td>\n",
              "    </tr>\n",
              "  </tbody>\n",
              "</table>\n",
              "<p>2 rows × 22 columns</p>\n",
              "</div>\n",
              "      <button class=\"colab-df-convert\" onclick=\"convertToInteractive('df-adf7c4a2-a140-43be-8d6d-a6474eba3550')\"\n",
              "              title=\"Convert this dataframe to an interactive table.\"\n",
              "              style=\"display:none;\">\n",
              "        \n",
              "  <svg xmlns=\"http://www.w3.org/2000/svg\" height=\"24px\"viewBox=\"0 0 24 24\"\n",
              "       width=\"24px\">\n",
              "    <path d=\"M0 0h24v24H0V0z\" fill=\"none\"/>\n",
              "    <path d=\"M18.56 5.44l.94 2.06.94-2.06 2.06-.94-2.06-.94-.94-2.06-.94 2.06-2.06.94zm-11 1L8.5 8.5l.94-2.06 2.06-.94-2.06-.94L8.5 2.5l-.94 2.06-2.06.94zm10 10l.94 2.06.94-2.06 2.06-.94-2.06-.94-.94-2.06-.94 2.06-2.06.94z\"/><path d=\"M17.41 7.96l-1.37-1.37c-.4-.4-.92-.59-1.43-.59-.52 0-1.04.2-1.43.59L10.3 9.45l-7.72 7.72c-.78.78-.78 2.05 0 2.83L4 21.41c.39.39.9.59 1.41.59.51 0 1.02-.2 1.41-.59l7.78-7.78 2.81-2.81c.8-.78.8-2.07 0-2.86zM5.41 20L4 18.59l7.72-7.72 1.47 1.35L5.41 20z\"/>\n",
              "  </svg>\n",
              "      </button>\n",
              "      \n",
              "  <style>\n",
              "    .colab-df-container {\n",
              "      display:flex;\n",
              "      flex-wrap:wrap;\n",
              "      gap: 12px;\n",
              "    }\n",
              "\n",
              "    .colab-df-convert {\n",
              "      background-color: #E8F0FE;\n",
              "      border: none;\n",
              "      border-radius: 50%;\n",
              "      cursor: pointer;\n",
              "      display: none;\n",
              "      fill: #1967D2;\n",
              "      height: 32px;\n",
              "      padding: 0 0 0 0;\n",
              "      width: 32px;\n",
              "    }\n",
              "\n",
              "    .colab-df-convert:hover {\n",
              "      background-color: #E2EBFA;\n",
              "      box-shadow: 0px 1px 2px rgba(60, 64, 67, 0.3), 0px 1px 3px 1px rgba(60, 64, 67, 0.15);\n",
              "      fill: #174EA6;\n",
              "    }\n",
              "\n",
              "    [theme=dark] .colab-df-convert {\n",
              "      background-color: #3B4455;\n",
              "      fill: #D2E3FC;\n",
              "    }\n",
              "\n",
              "    [theme=dark] .colab-df-convert:hover {\n",
              "      background-color: #434B5C;\n",
              "      box-shadow: 0px 1px 3px 1px rgba(0, 0, 0, 0.15);\n",
              "      filter: drop-shadow(0px 1px 2px rgba(0, 0, 0, 0.3));\n",
              "      fill: #FFFFFF;\n",
              "    }\n",
              "  </style>\n",
              "\n",
              "      <script>\n",
              "        const buttonEl =\n",
              "          document.querySelector('#df-adf7c4a2-a140-43be-8d6d-a6474eba3550 button.colab-df-convert');\n",
              "        buttonEl.style.display =\n",
              "          google.colab.kernel.accessAllowed ? 'block' : 'none';\n",
              "\n",
              "        async function convertToInteractive(key) {\n",
              "          const element = document.querySelector('#df-adf7c4a2-a140-43be-8d6d-a6474eba3550');\n",
              "          const dataTable =\n",
              "            await google.colab.kernel.invokeFunction('convertToInteractive',\n",
              "                                                     [key], {});\n",
              "          if (!dataTable) return;\n",
              "\n",
              "          const docLinkHtml = 'Like what you see? Visit the ' +\n",
              "            '<a target=\"_blank\" href=https://colab.research.google.com/notebooks/data_table.ipynb>data table notebook</a>'\n",
              "            + ' to learn more about interactive tables.';\n",
              "          element.innerHTML = '';\n",
              "          dataTable['output_type'] = 'display_data';\n",
              "          await google.colab.output.renderOutput(dataTable, element);\n",
              "          const docLink = document.createElement('div');\n",
              "          docLink.innerHTML = docLinkHtml;\n",
              "          element.appendChild(docLink);\n",
              "        }\n",
              "      </script>\n",
              "    </div>\n",
              "  </div>\n",
              "  "
            ]
          },
          "metadata": {},
          "execution_count": 370
        }
      ]
    },
    {
      "cell_type": "code",
      "source": [
        "df.shape"
      ],
      "metadata": {
        "colab": {
          "base_uri": "https://localhost:8080/"
        },
        "id": "fqCLwj24dx97",
        "outputId": "418f439d-ca33-44c6-d23f-35b5676dba77"
      },
      "execution_count": 371,
      "outputs": [
        {
          "output_type": "execute_result",
          "data": {
            "text/plain": [
              "(600, 22)"
            ]
          },
          "metadata": {},
          "execution_count": 371
        }
      ]
    },
    {
      "cell_type": "code",
      "source": [
        "test_data.columns"
      ],
      "metadata": {
        "colab": {
          "base_uri": "https://localhost:8080/"
        },
        "id": "wiGbmXVlFbL2",
        "outputId": "b3bbf13d-d872-4bb0-fe01-62eaf738c263"
      },
      "execution_count": 372,
      "outputs": [
        {
          "output_type": "execute_result",
          "data": {
            "text/plain": [
              "Index(['Unnamed: 0', 'Number of people who will provide maintenance',\n",
              "       'Loan History', 'Purpose of taking loan', 'loan amount taken',\n",
              "       'Guarantor or Debtor', 'Number of years of employment',\n",
              "       'Marital Status', 'Number of loans taken from current bank',\n",
              "       'Age of the applicant in Number of Years', 'amount in current account',\n",
              "       'amount in savings account', '% of income paid as installment',\n",
              "       'Other loans plans taken', 'Working abroad or not',\n",
              "       'Is there telephone number available', 'time duration for loan',\n",
              "       'Owned property', 'Type of job performed', 'Type of Housing',\n",
              "       'Number of years of stay in current address', 'Loan Defaulted or not'],\n",
              "      dtype='object')"
            ]
          },
          "metadata": {},
          "execution_count": 372
        }
      ]
    },
    {
      "cell_type": "code",
      "source": [
        "df.info()"
      ],
      "metadata": {
        "colab": {
          "base_uri": "https://localhost:8080/"
        },
        "id": "_6sIzcPmeAdm",
        "outputId": "dbe4913c-4a9c-4195-9693-2157a8a2c4c9"
      },
      "execution_count": 373,
      "outputs": [
        {
          "output_type": "stream",
          "name": "stdout",
          "text": [
            "<class 'pandas.core.frame.DataFrame'>\n",
            "Int64Index: 600 entries, 0 to 599\n",
            "Data columns (total 22 columns):\n",
            " #   Column                                         Non-Null Count  Dtype \n",
            "---  ------                                         --------------  ----- \n",
            " 0   Number of people who will provide maintenance  600 non-null    int64 \n",
            " 1   Loan History                                   600 non-null    object\n",
            " 2   Purpose of taking loan                         591 non-null    object\n",
            " 3   loan amount taken                              600 non-null    int64 \n",
            " 4   Guarantor or Debtor                            600 non-null    object\n",
            " 5   Number of years of employment                  447 non-null    object\n",
            " 6   Marital Status                                 600 non-null    object\n",
            " 7   Number of loans taken from current bank        600 non-null    int64 \n",
            " 8   Age of the applicant in Number of Years        600 non-null    int64 \n",
            " 9   amount in current account                      600 non-null    object\n",
            " 10  amount in savings account                      600 non-null    object\n",
            " 11  % of income paid as installment                600 non-null    int64 \n",
            " 12  Other loans plans taken                        600 non-null    object\n",
            " 13  Working abroad or not                          600 non-null    object\n",
            " 14  Is there telephone number available            600 non-null    object\n",
            " 15  time duration for loan                         600 non-null    int64 \n",
            " 16  Owned property                                 600 non-null    object\n",
            " 17  Type of job performed                          600 non-null    object\n",
            " 18  Type of Housing                                600 non-null    object\n",
            " 19  Number of years of stay in current address     600 non-null    int64 \n",
            " 20  Loan Defaulted or not                          600 non-null    int64 \n",
            " 21  1=defaulted                                    1 non-null      object\n",
            "dtypes: int64(8), object(14)\n",
            "memory usage: 107.8+ KB\n"
          ]
        }
      ]
    },
    {
      "cell_type": "code",
      "source": [
        "df.describe().T"
      ],
      "metadata": {
        "colab": {
          "base_uri": "https://localhost:8080/",
          "height": 587
        },
        "id": "H3Bu7QvneB3u",
        "outputId": "7505862b-7ca9-487b-fe51-1af2f1a3e54b"
      },
      "execution_count": 374,
      "outputs": [
        {
          "output_type": "execute_result",
          "data": {
            "text/plain": [
              "                                               count         mean  \\\n",
              "Number of people who will provide maintenance  600.0     1.168333   \n",
              "loan amount taken                              600.0  3165.848333   \n",
              "Number of loans taken from current bank        600.0     1.373333   \n",
              "Age of the applicant in Number of Years        600.0    36.058333   \n",
              "% of income paid as installment                600.0     2.943333   \n",
              "time duration for loan                         600.0    20.660000   \n",
              "Number of years of stay in current address     600.0     2.871667   \n",
              "Loan Defaulted or not                          600.0     1.296667   \n",
              "\n",
              "                                                       std    min      25%  \\\n",
              "Number of people who will provide maintenance     0.374474    1.0     1.00   \n",
              "loan amount taken                              2689.041881  276.0  1346.75   \n",
              "Number of loans taken from current bank           0.566708    1.0     1.00   \n",
              "Age of the applicant in Number of Years          11.700417   19.0    27.00   \n",
              "% of income paid as installment                   1.124973    1.0     2.00   \n",
              "time duration for loan                           12.198185    4.0    12.00   \n",
              "Number of years of stay in current address        1.097210    1.0     2.00   \n",
              "Loan Defaulted or not                             0.457169    1.0     1.00   \n",
              "\n",
              "                                                  50%      75%      max  \n",
              "Number of people who will provide maintenance     1.0     1.00      2.0  \n",
              "loan amount taken                              2246.5  3880.25  15672.0  \n",
              "Number of loans taken from current bank           1.0     2.00      4.0  \n",
              "Age of the applicant in Number of Years          34.0    42.00     75.0  \n",
              "% of income paid as installment                   3.0     4.00      4.0  \n",
              "time duration for loan                           18.0    24.00     72.0  \n",
              "Number of years of stay in current address        3.0     4.00      4.0  \n",
              "Loan Defaulted or not                             1.0     2.00      2.0  "
            ],
            "text/html": [
              "\n",
              "  <div id=\"df-7510ad99-0518-4aae-801f-e73cdd48b5a4\">\n",
              "    <div class=\"colab-df-container\">\n",
              "      <div>\n",
              "<style scoped>\n",
              "    .dataframe tbody tr th:only-of-type {\n",
              "        vertical-align: middle;\n",
              "    }\n",
              "\n",
              "    .dataframe tbody tr th {\n",
              "        vertical-align: top;\n",
              "    }\n",
              "\n",
              "    .dataframe thead th {\n",
              "        text-align: right;\n",
              "    }\n",
              "</style>\n",
              "<table border=\"1\" class=\"dataframe\">\n",
              "  <thead>\n",
              "    <tr style=\"text-align: right;\">\n",
              "      <th></th>\n",
              "      <th>count</th>\n",
              "      <th>mean</th>\n",
              "      <th>std</th>\n",
              "      <th>min</th>\n",
              "      <th>25%</th>\n",
              "      <th>50%</th>\n",
              "      <th>75%</th>\n",
              "      <th>max</th>\n",
              "    </tr>\n",
              "  </thead>\n",
              "  <tbody>\n",
              "    <tr>\n",
              "      <th>Number of people who will provide maintenance</th>\n",
              "      <td>600.0</td>\n",
              "      <td>1.168333</td>\n",
              "      <td>0.374474</td>\n",
              "      <td>1.0</td>\n",
              "      <td>1.00</td>\n",
              "      <td>1.0</td>\n",
              "      <td>1.00</td>\n",
              "      <td>2.0</td>\n",
              "    </tr>\n",
              "    <tr>\n",
              "      <th>loan amount taken</th>\n",
              "      <td>600.0</td>\n",
              "      <td>3165.848333</td>\n",
              "      <td>2689.041881</td>\n",
              "      <td>276.0</td>\n",
              "      <td>1346.75</td>\n",
              "      <td>2246.5</td>\n",
              "      <td>3880.25</td>\n",
              "      <td>15672.0</td>\n",
              "    </tr>\n",
              "    <tr>\n",
              "      <th>Number of loans taken from current bank</th>\n",
              "      <td>600.0</td>\n",
              "      <td>1.373333</td>\n",
              "      <td>0.566708</td>\n",
              "      <td>1.0</td>\n",
              "      <td>1.00</td>\n",
              "      <td>1.0</td>\n",
              "      <td>2.00</td>\n",
              "      <td>4.0</td>\n",
              "    </tr>\n",
              "    <tr>\n",
              "      <th>Age of the applicant in Number of Years</th>\n",
              "      <td>600.0</td>\n",
              "      <td>36.058333</td>\n",
              "      <td>11.700417</td>\n",
              "      <td>19.0</td>\n",
              "      <td>27.00</td>\n",
              "      <td>34.0</td>\n",
              "      <td>42.00</td>\n",
              "      <td>75.0</td>\n",
              "    </tr>\n",
              "    <tr>\n",
              "      <th>% of income paid as installment</th>\n",
              "      <td>600.0</td>\n",
              "      <td>2.943333</td>\n",
              "      <td>1.124973</td>\n",
              "      <td>1.0</td>\n",
              "      <td>2.00</td>\n",
              "      <td>3.0</td>\n",
              "      <td>4.00</td>\n",
              "      <td>4.0</td>\n",
              "    </tr>\n",
              "    <tr>\n",
              "      <th>time duration for loan</th>\n",
              "      <td>600.0</td>\n",
              "      <td>20.660000</td>\n",
              "      <td>12.198185</td>\n",
              "      <td>4.0</td>\n",
              "      <td>12.00</td>\n",
              "      <td>18.0</td>\n",
              "      <td>24.00</td>\n",
              "      <td>72.0</td>\n",
              "    </tr>\n",
              "    <tr>\n",
              "      <th>Number of years of stay in current address</th>\n",
              "      <td>600.0</td>\n",
              "      <td>2.871667</td>\n",
              "      <td>1.097210</td>\n",
              "      <td>1.0</td>\n",
              "      <td>2.00</td>\n",
              "      <td>3.0</td>\n",
              "      <td>4.00</td>\n",
              "      <td>4.0</td>\n",
              "    </tr>\n",
              "    <tr>\n",
              "      <th>Loan Defaulted or not</th>\n",
              "      <td>600.0</td>\n",
              "      <td>1.296667</td>\n",
              "      <td>0.457169</td>\n",
              "      <td>1.0</td>\n",
              "      <td>1.00</td>\n",
              "      <td>1.0</td>\n",
              "      <td>2.00</td>\n",
              "      <td>2.0</td>\n",
              "    </tr>\n",
              "  </tbody>\n",
              "</table>\n",
              "</div>\n",
              "      <button class=\"colab-df-convert\" onclick=\"convertToInteractive('df-7510ad99-0518-4aae-801f-e73cdd48b5a4')\"\n",
              "              title=\"Convert this dataframe to an interactive table.\"\n",
              "              style=\"display:none;\">\n",
              "        \n",
              "  <svg xmlns=\"http://www.w3.org/2000/svg\" height=\"24px\"viewBox=\"0 0 24 24\"\n",
              "       width=\"24px\">\n",
              "    <path d=\"M0 0h24v24H0V0z\" fill=\"none\"/>\n",
              "    <path d=\"M18.56 5.44l.94 2.06.94-2.06 2.06-.94-2.06-.94-.94-2.06-.94 2.06-2.06.94zm-11 1L8.5 8.5l.94-2.06 2.06-.94-2.06-.94L8.5 2.5l-.94 2.06-2.06.94zm10 10l.94 2.06.94-2.06 2.06-.94-2.06-.94-.94-2.06-.94 2.06-2.06.94z\"/><path d=\"M17.41 7.96l-1.37-1.37c-.4-.4-.92-.59-1.43-.59-.52 0-1.04.2-1.43.59L10.3 9.45l-7.72 7.72c-.78.78-.78 2.05 0 2.83L4 21.41c.39.39.9.59 1.41.59.51 0 1.02-.2 1.41-.59l7.78-7.78 2.81-2.81c.8-.78.8-2.07 0-2.86zM5.41 20L4 18.59l7.72-7.72 1.47 1.35L5.41 20z\"/>\n",
              "  </svg>\n",
              "      </button>\n",
              "      \n",
              "  <style>\n",
              "    .colab-df-container {\n",
              "      display:flex;\n",
              "      flex-wrap:wrap;\n",
              "      gap: 12px;\n",
              "    }\n",
              "\n",
              "    .colab-df-convert {\n",
              "      background-color: #E8F0FE;\n",
              "      border: none;\n",
              "      border-radius: 50%;\n",
              "      cursor: pointer;\n",
              "      display: none;\n",
              "      fill: #1967D2;\n",
              "      height: 32px;\n",
              "      padding: 0 0 0 0;\n",
              "      width: 32px;\n",
              "    }\n",
              "\n",
              "    .colab-df-convert:hover {\n",
              "      background-color: #E2EBFA;\n",
              "      box-shadow: 0px 1px 2px rgba(60, 64, 67, 0.3), 0px 1px 3px 1px rgba(60, 64, 67, 0.15);\n",
              "      fill: #174EA6;\n",
              "    }\n",
              "\n",
              "    [theme=dark] .colab-df-convert {\n",
              "      background-color: #3B4455;\n",
              "      fill: #D2E3FC;\n",
              "    }\n",
              "\n",
              "    [theme=dark] .colab-df-convert:hover {\n",
              "      background-color: #434B5C;\n",
              "      box-shadow: 0px 1px 3px 1px rgba(0, 0, 0, 0.15);\n",
              "      filter: drop-shadow(0px 1px 2px rgba(0, 0, 0, 0.3));\n",
              "      fill: #FFFFFF;\n",
              "    }\n",
              "  </style>\n",
              "\n",
              "      <script>\n",
              "        const buttonEl =\n",
              "          document.querySelector('#df-7510ad99-0518-4aae-801f-e73cdd48b5a4 button.colab-df-convert');\n",
              "        buttonEl.style.display =\n",
              "          google.colab.kernel.accessAllowed ? 'block' : 'none';\n",
              "\n",
              "        async function convertToInteractive(key) {\n",
              "          const element = document.querySelector('#df-7510ad99-0518-4aae-801f-e73cdd48b5a4');\n",
              "          const dataTable =\n",
              "            await google.colab.kernel.invokeFunction('convertToInteractive',\n",
              "                                                     [key], {});\n",
              "          if (!dataTable) return;\n",
              "\n",
              "          const docLinkHtml = 'Like what you see? Visit the ' +\n",
              "            '<a target=\"_blank\" href=https://colab.research.google.com/notebooks/data_table.ipynb>data table notebook</a>'\n",
              "            + ' to learn more about interactive tables.';\n",
              "          element.innerHTML = '';\n",
              "          dataTable['output_type'] = 'display_data';\n",
              "          await google.colab.output.renderOutput(dataTable, element);\n",
              "          const docLink = document.createElement('div');\n",
              "          docLink.innerHTML = docLinkHtml;\n",
              "          element.appendChild(docLink);\n",
              "        }\n",
              "      </script>\n",
              "    </div>\n",
              "  </div>\n",
              "  "
            ]
          },
          "metadata": {},
          "execution_count": 374
        }
      ]
    },
    {
      "cell_type": "code",
      "source": [
        "num_columns = list(df[df.columns].select_dtypes(include=['float64']).columns)\n",
        "cat_columns = list(df[df.columns].select_dtypes(include=['object']).columns)"
      ],
      "metadata": {
        "id": "nI1rlyHvXtGx"
      },
      "execution_count": 375,
      "outputs": []
    },
    {
      "cell_type": "code",
      "source": [
        "missing = df.isna().sum().div(df.shape[0]).mul(100).to_frame().sort_values(by=0, ascending = False)\n",
        "missing.columns  = ['% missing']\n",
        "missing = missing[missing['% missing']>0]\n",
        "missing"
      ],
      "metadata": {
        "colab": {
          "base_uri": "https://localhost:8080/",
          "height": 143
        },
        "id": "MS-0R7KHX8Mq",
        "outputId": "a143dca9-58d5-4ea5-8905-31395e5cd5bb"
      },
      "execution_count": 376,
      "outputs": [
        {
          "output_type": "execute_result",
          "data": {
            "text/plain": [
              "                               % missing\n",
              "1=defaulted                    99.833333\n",
              "Number of years of employment  25.500000\n",
              "Purpose of taking loan          1.500000"
            ],
            "text/html": [
              "\n",
              "  <div id=\"df-be9a787f-1f89-4234-bcba-c06730bbbcb2\">\n",
              "    <div class=\"colab-df-container\">\n",
              "      <div>\n",
              "<style scoped>\n",
              "    .dataframe tbody tr th:only-of-type {\n",
              "        vertical-align: middle;\n",
              "    }\n",
              "\n",
              "    .dataframe tbody tr th {\n",
              "        vertical-align: top;\n",
              "    }\n",
              "\n",
              "    .dataframe thead th {\n",
              "        text-align: right;\n",
              "    }\n",
              "</style>\n",
              "<table border=\"1\" class=\"dataframe\">\n",
              "  <thead>\n",
              "    <tr style=\"text-align: right;\">\n",
              "      <th></th>\n",
              "      <th>% missing</th>\n",
              "    </tr>\n",
              "  </thead>\n",
              "  <tbody>\n",
              "    <tr>\n",
              "      <th>1=defaulted</th>\n",
              "      <td>99.833333</td>\n",
              "    </tr>\n",
              "    <tr>\n",
              "      <th>Number of years of employment</th>\n",
              "      <td>25.500000</td>\n",
              "    </tr>\n",
              "    <tr>\n",
              "      <th>Purpose of taking loan</th>\n",
              "      <td>1.500000</td>\n",
              "    </tr>\n",
              "  </tbody>\n",
              "</table>\n",
              "</div>\n",
              "      <button class=\"colab-df-convert\" onclick=\"convertToInteractive('df-be9a787f-1f89-4234-bcba-c06730bbbcb2')\"\n",
              "              title=\"Convert this dataframe to an interactive table.\"\n",
              "              style=\"display:none;\">\n",
              "        \n",
              "  <svg xmlns=\"http://www.w3.org/2000/svg\" height=\"24px\"viewBox=\"0 0 24 24\"\n",
              "       width=\"24px\">\n",
              "    <path d=\"M0 0h24v24H0V0z\" fill=\"none\"/>\n",
              "    <path d=\"M18.56 5.44l.94 2.06.94-2.06 2.06-.94-2.06-.94-.94-2.06-.94 2.06-2.06.94zm-11 1L8.5 8.5l.94-2.06 2.06-.94-2.06-.94L8.5 2.5l-.94 2.06-2.06.94zm10 10l.94 2.06.94-2.06 2.06-.94-2.06-.94-.94-2.06-.94 2.06-2.06.94z\"/><path d=\"M17.41 7.96l-1.37-1.37c-.4-.4-.92-.59-1.43-.59-.52 0-1.04.2-1.43.59L10.3 9.45l-7.72 7.72c-.78.78-.78 2.05 0 2.83L4 21.41c.39.39.9.59 1.41.59.51 0 1.02-.2 1.41-.59l7.78-7.78 2.81-2.81c.8-.78.8-2.07 0-2.86zM5.41 20L4 18.59l7.72-7.72 1.47 1.35L5.41 20z\"/>\n",
              "  </svg>\n",
              "      </button>\n",
              "      \n",
              "  <style>\n",
              "    .colab-df-container {\n",
              "      display:flex;\n",
              "      flex-wrap:wrap;\n",
              "      gap: 12px;\n",
              "    }\n",
              "\n",
              "    .colab-df-convert {\n",
              "      background-color: #E8F0FE;\n",
              "      border: none;\n",
              "      border-radius: 50%;\n",
              "      cursor: pointer;\n",
              "      display: none;\n",
              "      fill: #1967D2;\n",
              "      height: 32px;\n",
              "      padding: 0 0 0 0;\n",
              "      width: 32px;\n",
              "    }\n",
              "\n",
              "    .colab-df-convert:hover {\n",
              "      background-color: #E2EBFA;\n",
              "      box-shadow: 0px 1px 2px rgba(60, 64, 67, 0.3), 0px 1px 3px 1px rgba(60, 64, 67, 0.15);\n",
              "      fill: #174EA6;\n",
              "    }\n",
              "\n",
              "    [theme=dark] .colab-df-convert {\n",
              "      background-color: #3B4455;\n",
              "      fill: #D2E3FC;\n",
              "    }\n",
              "\n",
              "    [theme=dark] .colab-df-convert:hover {\n",
              "      background-color: #434B5C;\n",
              "      box-shadow: 0px 1px 3px 1px rgba(0, 0, 0, 0.15);\n",
              "      filter: drop-shadow(0px 1px 2px rgba(0, 0, 0, 0.3));\n",
              "      fill: #FFFFFF;\n",
              "    }\n",
              "  </style>\n",
              "\n",
              "      <script>\n",
              "        const buttonEl =\n",
              "          document.querySelector('#df-be9a787f-1f89-4234-bcba-c06730bbbcb2 button.colab-df-convert');\n",
              "        buttonEl.style.display =\n",
              "          google.colab.kernel.accessAllowed ? 'block' : 'none';\n",
              "\n",
              "        async function convertToInteractive(key) {\n",
              "          const element = document.querySelector('#df-be9a787f-1f89-4234-bcba-c06730bbbcb2');\n",
              "          const dataTable =\n",
              "            await google.colab.kernel.invokeFunction('convertToInteractive',\n",
              "                                                     [key], {});\n",
              "          if (!dataTable) return;\n",
              "\n",
              "          const docLinkHtml = 'Like what you see? Visit the ' +\n",
              "            '<a target=\"_blank\" href=https://colab.research.google.com/notebooks/data_table.ipynb>data table notebook</a>'\n",
              "            + ' to learn more about interactive tables.';\n",
              "          element.innerHTML = '';\n",
              "          dataTable['output_type'] = 'display_data';\n",
              "          await google.colab.output.renderOutput(dataTable, element);\n",
              "          const docLink = document.createElement('div');\n",
              "          docLink.innerHTML = docLinkHtml;\n",
              "          element.appendChild(docLink);\n",
              "        }\n",
              "      </script>\n",
              "    </div>\n",
              "  </div>\n",
              "  "
            ]
          },
          "metadata": {},
          "execution_count": 376
        }
      ]
    },
    {
      "cell_type": "markdown",
      "source": [
        "Conclusion:- Out of 22 features, 3 have missing values but percentage is very highest in 1=defaulted so we drop it"
      ],
      "metadata": {
        "id": "Kco0Z-8tYGSw"
      }
    },
    {
      "cell_type": "code",
      "source": [
        "df['Loan Defaulted or not'].value_counts()"
      ],
      "metadata": {
        "colab": {
          "base_uri": "https://localhost:8080/"
        },
        "id": "be2d4wotYkIr",
        "outputId": "adb6eec6-0cd6-43c7-9c28-2723efff069d"
      },
      "execution_count": 377,
      "outputs": [
        {
          "output_type": "execute_result",
          "data": {
            "text/plain": [
              "1    422\n",
              "2    178\n",
              "Name: Loan Defaulted or not, dtype: int64"
            ]
          },
          "metadata": {},
          "execution_count": 377
        }
      ]
    },
    {
      "cell_type": "code",
      "source": [
        "sns.countplot(x ='Loan Defaulted or not', data = df)"
      ],
      "metadata": {
        "colab": {
          "base_uri": "https://localhost:8080/",
          "height": 302
        },
        "id": "HPO8GQLAYRBU",
        "outputId": "3dea6749-efcd-4e4d-9959-3cb027b58ed6"
      },
      "execution_count": 378,
      "outputs": [
        {
          "output_type": "execute_result",
          "data": {
            "text/plain": [
              "<matplotlib.axes._subplots.AxesSubplot at 0x7f5ddc71fc40>"
            ]
          },
          "metadata": {},
          "execution_count": 378
        },
        {
          "output_type": "display_data",
          "data": {
            "text/plain": [
              "<Figure size 432x288 with 1 Axes>"
            ],
            "image/png": "[encoded data removed]"
          },
          "metadata": {}
        }
      ]
    },
    {
      "cell_type": "markdown",
      "source": [
        "Conclusion - Target Variable is unbalanced"
      ],
      "metadata": {
        "id": "CJ6HO26pe0Nc"
      }
    },
    {
      "cell_type": "code",
      "source": [
        "cat_columns"
      ],
      "metadata": {
        "colab": {
          "base_uri": "https://localhost:8080/"
        },
        "id": "xlb1wioCfkxD",
        "outputId": "05ec1d09-9cff-4d9c-900b-91ad413de15b"
      },
      "execution_count": 379,
      "outputs": [
        {
          "output_type": "execute_result",
          "data": {
            "text/plain": [
              "['Loan History',\n",
              " 'Purpose of taking loan',\n",
              " 'Guarantor or Debtor',\n",
              " 'Number of years of employment',\n",
              " 'Marital Status',\n",
              " 'amount in current account',\n",
              " 'amount in savings account',\n",
              " 'Other loans plans taken',\n",
              " 'Working abroad or not',\n",
              " 'Is there telephone number available',\n",
              " 'Owned property',\n",
              " 'Type of job performed',\n",
              " 'Type of Housing',\n",
              " '1=defaulted']"
            ]
          },
          "metadata": {},
          "execution_count": 379
        }
      ]
    },
    {
      "cell_type": "code",
      "source": [
        "plt.figure(figsize=(20, 8))\n",
        "sns.heatmap(df.corr(), cmap=\"Spectral\",\n",
        "            annot=True, linewidths=0.5)\n",
        "plt.title('Corelation Between Features', fontsize=30)\n",
        "plt.show()"
      ],
      "metadata": {
        "colab": {
          "base_uri": "https://localhost:8080/",
          "height": 407
        },
        "id": "AkHjJpFzt9H7",
        "outputId": "91ec2199-49cc-438c-d4cf-7e30bf618aba"
      },
      "execution_count": 380,
      "outputs": [
        {
          "output_type": "display_data",
          "data": {
            "text/plain": [
              "<Figure size 1440x576 with 2 Axes>"
            ],
            "image/png": "[encoded data removed]"
          },
          "metadata": {}
        }
      ]
    },
    {
      "cell_type": "markdown",
      "source": [
        "Categorical Column Distribution"
      ],
      "metadata": {
        "id": "eknX-s2MgGz-"
      }
    },
    {
      "cell_type": "code",
      "source": [
        "fig, axes = plt.subplots(3, 3, figsize=(18, 24))\n",
        "for ax in axes.flatten():\n",
        "    for label in ax.get_xticklabels():\n",
        "        label.set_rotation(90)\n",
        "\n",
        "sns.countplot(ax=axes[0, 0], data=df, x='amount in savings account')\n",
        "sns.countplot(ax=axes[0, 1], data=df, x='Type of Housing')\n",
        "sns.countplot(ax=axes[0, 2], data=df, x='Owned property')\n",
        "sns.countplot(ax=axes[1, 0], data=df, x='Number of years of employment')\n",
        "sns.countplot(ax=axes[1, 1], data=df, x='Loan History')\n",
        "sns.countplot(ax=axes[1, 2], data=df, x='Purpose of taking loan')\n",
        "sns.countplot(ax=axes[2, 0], data=df, x='Type of job performed')\n",
        "sns.countplot(ax=axes[2, 1], data=df, x='Guarantor or Debtor')\n",
        "sns.countplot(ax=axes[2, 2], data=df, x='Other loans plans taken')\n",
        "\n",
        "fig.tight_layout(pad=1.0)\n",
        " \n",
        "plt.show()"
      ],
      "metadata": {
        "colab": {
          "base_uri": "https://localhost:8080/",
          "height": 911
        },
        "id": "ww_Ehv9eZ1nc",
        "outputId": "26246938-4ef4-4388-dde5-415c0e525fa8"
      },
      "execution_count": 381,
      "outputs": [
        {
          "output_type": "display_data",
          "data": {
            "text/plain": [
              "<Figure size 1296x1728 with 9 Axes>"
            ],
            "image/png": "[encoded data removed]"
          },
          "metadata": {}
        }
      ]
    },
    {
      "cell_type": "markdown",
      "source": [
        "Feature Selection"
      ],
      "metadata": {
        "id": "K4bStgPQmqzr"
      }
    },
    {
      "cell_type": "code",
      "source": [
        "df.corr()"
      ],
      "metadata": {
        "colab": {
          "base_uri": "https://localhost:8080/",
          "height": 798
        },
        "id": "llyD_cUsm9k3",
        "outputId": "4ed0604b-f415-4681-e432-3f688eff8356"
      },
      "execution_count": 382,
      "outputs": [
        {
          "output_type": "execute_result",
          "data": {
            "text/plain": [
              "                                               Number of people who will provide maintenance  \\\n",
              "Number of people who will provide maintenance                                       1.000000   \n",
              "loan amount taken                                                                   0.019487   \n",
              "Number of loans taken from current bank                                             0.143908   \n",
              "Age of the applicant in Number of Years                                             0.111681   \n",
              "% of income paid as installment                                                    -0.028836   \n",
              "time duration for loan                                                              0.018398   \n",
              "Number of years of stay in current address                                          0.052665   \n",
              "Loan Defaulted or not                                                               0.000358   \n",
              "\n",
              "                                               loan amount taken  \\\n",
              "Number of people who will provide maintenance           0.019487   \n",
              "loan amount taken                                       1.000000   \n",
              "Number of loans taken from current bank                 0.064329   \n",
              "Age of the applicant in Number of Years                 0.052143   \n",
              "% of income paid as installment                        -0.270338   \n",
              "time duration for loan                                  0.616553   \n",
              "Number of years of stay in current address              0.026749   \n",
              "Loan Defaulted or not                                   0.133209   \n",
              "\n",
              "                                               Number of loans taken from current bank  \\\n",
              "Number of people who will provide maintenance                                 0.143908   \n",
              "loan amount taken                                                             0.064329   \n",
              "Number of loans taken from current bank                                       1.000000   \n",
              "Age of the applicant in Number of Years                                       0.182268   \n",
              "% of income paid as installment                                              -0.024371   \n",
              "time duration for loan                                                        0.011631   \n",
              "Number of years of stay in current address                                    0.085236   \n",
              "Loan Defaulted or not                                                        -0.073802   \n",
              "\n",
              "                                               Age of the applicant in Number of Years  \\\n",
              "Number of people who will provide maintenance                                 0.111681   \n",
              "loan amount taken                                                             0.052143   \n",
              "Number of loans taken from current bank                                       0.182268   \n",
              "Age of the applicant in Number of Years                                       1.000000   \n",
              "% of income paid as installment                                               0.024223   \n",
              "time duration for loan                                                       -0.044181   \n",
              "Number of years of stay in current address                                    0.264828   \n",
              "Loan Defaulted or not                                                        -0.090317   \n",
              "\n",
              "                                               % of income paid as installment  \\\n",
              "Number of people who will provide maintenance                        -0.028836   \n",
              "loan amount taken                                                    -0.270338   \n",
              "Number of loans taken from current bank                              -0.024371   \n",
              "Age of the applicant in Number of Years                               0.024223   \n",
              "% of income paid as installment                                       1.000000   \n",
              "time duration for loan                                                0.091418   \n",
              "Number of years of stay in current address                            0.030616   \n",
              "Loan Defaulted or not                                                 0.081432   \n",
              "\n",
              "                                               time duration for loan  \\\n",
              "Number of people who will provide maintenance                0.018398   \n",
              "loan amount taken                                            0.616553   \n",
              "Number of loans taken from current bank                      0.011631   \n",
              "Age of the applicant in Number of Years                     -0.044181   \n",
              "% of income paid as installment                              0.091418   \n",
              "time duration for loan                                       1.000000   \n",
              "Number of years of stay in current address                   0.045007   \n",
              "Loan Defaulted or not                                        0.188456   \n",
              "\n",
              "                                               Number of years of stay in current address  \\\n",
              "Number of people who will provide maintenance                                    0.052665   \n",
              "loan amount taken                                                                0.026749   \n",
              "Number of loans taken from current bank                                          0.085236   \n",
              "Age of the applicant in Number of Years                                          0.264828   \n",
              "% of income paid as installment                                                  0.030616   \n",
              "time duration for loan                                                           0.045007   \n",
              "Number of years of stay in current address                                       1.000000   \n",
              "Loan Defaulted or not                                                           -0.027147   \n",
              "\n",
              "                                               Loan Defaulted or not  \n",
              "Number of people who will provide maintenance               0.000358  \n",
              "loan amount taken                                           0.133209  \n",
              "Number of loans taken from current bank                    -0.073802  \n",
              "Age of the applicant in Number of Years                    -0.090317  \n",
              "% of income paid as installment                             0.081432  \n",
              "time duration for loan                                      0.188456  \n",
              "Number of years of stay in current address                 -0.027147  \n",
              "Loan Defaulted or not                                       1.000000  "
            ],
            "text/html": [
              "\n",
              "  <div id=\"df-c8d3aef6-01a1-42c4-b29b-673c706e283b\">\n",
              "    <div class=\"colab-df-container\">\n",
              "      <div>\n",
              "<style scoped>\n",
              "    .dataframe tbody tr th:only-of-type {\n",
              "        vertical-align: middle;\n",
              "    }\n",
              "\n",
              "    .dataframe tbody tr th {\n",
              "        vertical-align: top;\n",
              "    }\n",
              "\n",
              "    .dataframe thead th {\n",
              "        text-align: right;\n",
              "    }\n",
              "</style>\n",
              "<table border=\"1\" class=\"dataframe\">\n",
              "  <thead>\n",
              "    <tr style=\"text-align: right;\">\n",
              "      <th></th>\n",
              "      <th>Number of people who will provide maintenance</th>\n",
              "      <th>loan amount taken</th>\n",
              "      <th>Number of loans taken from current bank</th>\n",
              "      <th>Age of the applicant in Number of Years</th>\n",
              "      <th>% of income paid as installment</th>\n",
              "      <th>time duration for loan</th>\n",
              "      <th>Number of years of stay in current address</th>\n",
              "      <th>Loan Defaulted or not</th>\n",
              "    </tr>\n",
              "  </thead>\n",
              "  <tbody>\n",
              "    <tr>\n",
              "      <th>Number of people who will provide maintenance</th>\n",
              "      <td>1.000000</td>\n",
              "      <td>0.019487</td>\n",
              "      <td>0.143908</td>\n",
              "      <td>0.111681</td>\n",
              "      <td>-0.028836</td>\n",
              "      <td>0.018398</td>\n",
              "      <td>0.052665</td>\n",
              "      <td>0.000358</td>\n",
              "    </tr>\n",
              "    <tr>\n",
              "      <th>loan amount taken</th>\n",
              "      <td>0.019487</td>\n",
              "      <td>1.000000</td>\n",
              "      <td>0.064329</td>\n",
              "      <td>0.052143</td>\n",
              "      <td>-0.270338</td>\n",
              "      <td>0.616553</td>\n",
              "      <td>0.026749</td>\n",
              "      <td>0.133209</td>\n",
              "    </tr>\n",
              "    <tr>\n",
              "      <th>Number of loans taken from current bank</th>\n",
              "      <td>0.143908</td>\n",
              "      <td>0.064329</td>\n",
              "      <td>1.000000</td>\n",
              "      <td>0.182268</td>\n",
              "      <td>-0.024371</td>\n",
              "      <td>0.011631</td>\n",
              "      <td>0.085236</td>\n",
              "      <td>-0.073802</td>\n",
              "    </tr>\n",
              "    <tr>\n",
              "      <th>Age of the applicant in Number of Years</th>\n",
              "      <td>0.111681</td>\n",
              "      <td>0.052143</td>\n",
              "      <td>0.182268</td>\n",
              "      <td>1.000000</td>\n",
              "      <td>0.024223</td>\n",
              "      <td>-0.044181</td>\n",
              "      <td>0.264828</td>\n",
              "      <td>-0.090317</td>\n",
              "    </tr>\n",
              "    <tr>\n",
              "      <th>% of income paid as installment</th>\n",
              "      <td>-0.028836</td>\n",
              "      <td>-0.270338</td>\n",
              "      <td>-0.024371</td>\n",
              "      <td>0.024223</td>\n",
              "      <td>1.000000</td>\n",
              "      <td>0.091418</td>\n",
              "      <td>0.030616</td>\n",
              "      <td>0.081432</td>\n",
              "    </tr>\n",
              "    <tr>\n",
              "      <th>time duration for loan</th>\n",
              "      <td>0.018398</td>\n",
              "      <td>0.616553</td>\n",
              "      <td>0.011631</td>\n",
              "      <td>-0.044181</td>\n",
              "      <td>0.091418</td>\n",
              "      <td>1.000000</td>\n",
              "      <td>0.045007</td>\n",
              "      <td>0.188456</td>\n",
              "    </tr>\n",
              "    <tr>\n",
              "      <th>Number of years of stay in current address</th>\n",
              "      <td>0.052665</td>\n",
              "      <td>0.026749</td>\n",
              "      <td>0.085236</td>\n",
              "      <td>0.264828</td>\n",
              "      <td>0.030616</td>\n",
              "      <td>0.045007</td>\n",
              "      <td>1.000000</td>\n",
              "      <td>-0.027147</td>\n",
              "    </tr>\n",
              "    <tr>\n",
              "      <th>Loan Defaulted or not</th>\n",
              "      <td>0.000358</td>\n",
              "      <td>0.133209</td>\n",
              "      <td>-0.073802</td>\n",
              "      <td>-0.090317</td>\n",
              "      <td>0.081432</td>\n",
              "      <td>0.188456</td>\n",
              "      <td>-0.027147</td>\n",
              "      <td>1.000000</td>\n",
              "    </tr>\n",
              "  </tbody>\n",
              "</table>\n",
              "</div>\n",
              "      <button class=\"colab-df-convert\" onclick=\"convertToInteractive('df-c8d3aef6-01a1-42c4-b29b-673c706e283b')\"\n",
              "              title=\"Convert this dataframe to an interactive table.\"\n",
              "              style=\"display:none;\">\n",
              "        \n",
              "  <svg xmlns=\"http://www.w3.org/2000/svg\" height=\"24px\"viewBox=\"0 0 24 24\"\n",
              "       width=\"24px\">\n",
              "    <path d=\"M0 0h24v24H0V0z\" fill=\"none\"/>\n",
              "    <path d=\"M18.56 5.44l.94 2.06.94-2.06 2.06-.94-2.06-.94-.94-2.06-.94 2.06-2.06.94zm-11 1L8.5 8.5l.94-2.06 2.06-.94-2.06-.94L8.5 2.5l-.94 2.06-2.06.94zm10 10l.94 2.06.94-2.06 2.06-.94-2.06-.94-.94-2.06-.94 2.06-2.06.94z\"/><path d=\"M17.41 7.96l-1.37-1.37c-.4-.4-.92-.59-1.43-.59-.52 0-1.04.2-1.43.59L10.3 9.45l-7.72 7.72c-.78.78-.78 2.05 0 2.83L4 21.41c.39.39.9.59 1.41.59.51 0 1.02-.2 1.41-.59l7.78-7.78 2.81-2.81c.8-.78.8-2.07 0-2.86zM5.41 20L4 18.59l7.72-7.72 1.47 1.35L5.41 20z\"/>\n",
              "  </svg>\n",
              "      </button>\n",
              "      \n",
              "  <style>\n",
              "    .colab-df-container {\n",
              "      display:flex;\n",
              "      flex-wrap:wrap;\n",
              "      gap: 12px;\n",
              "    }\n",
              "\n",
              "    .colab-df-convert {\n",
              "      background-color: #E8F0FE;\n",
              "      border: none;\n",
              "      border-radius: 50%;\n",
              "      cursor: pointer;\n",
              "      display: none;\n",
              "      fill: #1967D2;\n",
              "      height: 32px;\n",
              "      padding: 0 0 0 0;\n",
              "      width: 32px;\n",
              "    }\n",
              "\n",
              "    .colab-df-convert:hover {\n",
              "      background-color: #E2EBFA;\n",
              "      box-shadow: 0px 1px 2px rgba(60, 64, 67, 0.3), 0px 1px 3px 1px rgba(60, 64, 67, 0.15);\n",
              "      fill: #174EA6;\n",
              "    }\n",
              "\n",
              "    [theme=dark] .colab-df-convert {\n",
              "      background-color: #3B4455;\n",
              "      fill: #D2E3FC;\n",
              "    }\n",
              "\n",
              "    [theme=dark] .colab-df-convert:hover {\n",
              "      background-color: #434B5C;\n",
              "      box-shadow: 0px 1px 3px 1px rgba(0, 0, 0, 0.15);\n",
              "      filter: drop-shadow(0px 1px 2px rgba(0, 0, 0, 0.3));\n",
              "      fill: #FFFFFF;\n",
              "    }\n",
              "  </style>\n",
              "\n",
              "      <script>\n",
              "        const buttonEl =\n",
              "          document.querySelector('#df-c8d3aef6-01a1-42c4-b29b-673c706e283b button.colab-df-convert');\n",
              "        buttonEl.style.display =\n",
              "          google.colab.kernel.accessAllowed ? 'block' : 'none';\n",
              "\n",
              "        async function convertToInteractive(key) {\n",
              "          const element = document.querySelector('#df-c8d3aef6-01a1-42c4-b29b-673c706e283b');\n",
              "          const dataTable =\n",
              "            await google.colab.kernel.invokeFunction('convertToInteractive',\n",
              "                                                     [key], {});\n",
              "          if (!dataTable) return;\n",
              "\n",
              "          const docLinkHtml = 'Like what you see? Visit the ' +\n",
              "            '<a target=\"_blank\" href=https://colab.research.google.com/notebooks/data_table.ipynb>data table notebook</a>'\n",
              "            + ' to learn more about interactive tables.';\n",
              "          element.innerHTML = '';\n",
              "          dataTable['output_type'] = 'display_data';\n",
              "          await google.colab.output.renderOutput(dataTable, element);\n",
              "          const docLink = document.createElement('div');\n",
              "          docLink.innerHTML = docLinkHtml;\n",
              "          element.appendChild(docLink);\n",
              "        }\n",
              "      </script>\n",
              "    </div>\n",
              "  </div>\n",
              "  "
            ]
          },
          "metadata": {},
          "execution_count": 382
        }
      ]
    },
    {
      "cell_type": "code",
      "source": [
        "df.drop(['1=defaulted','Purpose of taking loan','Is there telephone number available','Marital Status'], axis = 1, inplace = True) \n",
        "test_data.drop(['Purpose of taking loan','Is there telephone number available','Marital Status'], axis = 1, inplace = True) "
      ],
      "metadata": {
        "id": "lNtJ6djOedg7"
      },
      "execution_count": 383,
      "outputs": []
    },
    {
      "cell_type": "code",
      "source": [
        "test_data.head(2)"
      ],
      "metadata": {
        "colab": {
          "base_uri": "https://localhost:8080/",
          "height": 384
        },
        "id": "weYRQlprAGF9",
        "outputId": "66a28709-cf44-4631-95bf-e99fbc41d890"
      },
      "execution_count": 384,
      "outputs": [
        {
          "output_type": "execute_result",
          "data": {
            "text/plain": [
              "   Unnamed: 0  Number of people who will provide maintenance  \\\n",
              "0         600                                              1   \n",
              "1         601                                              1   \n",
              "\n",
              "                                        Loan History  loan amount taken  \\\n",
              "0             existing loans paid back duly till now               1278   \n",
              "1  critical account/other loans existing (not at ...              11590   \n",
              "\n",
              "  Guarantor or Debtor Number of years of employment  \\\n",
              "0                none                           NaN   \n",
              "1                none         between 1 and 4 years   \n",
              "\n",
              "   Number of loans taken from current bank  \\\n",
              "0                                        1   \n",
              "1                                        2   \n",
              "\n",
              "   Age of the applicant in Number of Years amount in current account  \\\n",
              "0                                       36        no current account   \n",
              "1                                       24        no current account   \n",
              "\n",
              "  amount in savings account  % of income paid as installment  \\\n",
              "0             less than 100                                4   \n",
              "1       between 100 and 500                                2   \n",
              "\n",
              "  Other loans plans taken Working abroad or not  time duration for loan  \\\n",
              "0                    none                   Yes                      24   \n",
              "1                    bank                   Yes                      48   \n",
              "\n",
              "          Owned property                              Type of job performed  \\\n",
              "0            Real Estate  management/ self-employed/highly qualified emp...   \n",
              "1  car or other property                               unskilled - resident   \n",
              "\n",
              "  Type of Housing  Number of years of stay in current address  \\\n",
              "0             own                                           1   \n",
              "1            rent                                           4   \n",
              "\n",
              "   Loan Defaulted or not  \n",
              "0                    NaN  \n",
              "1                    NaN  "
            ],
            "text/html": [
              "\n",
              "  <div id=\"df-08e8999a-bc02-48be-85c1-9f29de3b130d\">\n",
              "    <div class=\"colab-df-container\">\n",
              "      <div>\n",
              "<style scoped>\n",
              "    .dataframe tbody tr th:only-of-type {\n",
              "        vertical-align: middle;\n",
              "    }\n",
              "\n",
              "    .dataframe tbody tr th {\n",
              "        vertical-align: top;\n",
              "    }\n",
              "\n",
              "    .dataframe thead th {\n",
              "        text-align: right;\n",
              "    }\n",
              "</style>\n",
              "<table border=\"1\" class=\"dataframe\">\n",
              "  <thead>\n",
              "    <tr style=\"text-align: right;\">\n",
              "      <th></th>\n",
              "      <th>Unnamed: 0</th>\n",
              "      <th>Number of people who will provide maintenance</th>\n",
              "      <th>Loan History</th>\n",
              "      <th>loan amount taken</th>\n",
              "      <th>Guarantor or Debtor</th>\n",
              "      <th>Number of years of employment</th>\n",
              "      <th>Number of loans taken from current bank</th>\n",
              "      <th>Age of the applicant in Number of Years</th>\n",
              "      <th>amount in current account</th>\n",
              "      <th>amount in savings account</th>\n",
              "      <th>% of income paid as installment</th>\n",
              "      <th>Other loans plans taken</th>\n",
              "      <th>Working abroad or not</th>\n",
              "      <th>time duration for loan</th>\n",
              "      <th>Owned property</th>\n",
              "      <th>Type of job performed</th>\n",
              "      <th>Type of Housing</th>\n",
              "      <th>Number of years of stay in current address</th>\n",
              "      <th>Loan Defaulted or not</th>\n",
              "    </tr>\n",
              "  </thead>\n",
              "  <tbody>\n",
              "    <tr>\n",
              "      <th>0</th>\n",
              "      <td>600</td>\n",
              "      <td>1</td>\n",
              "      <td>existing loans paid back duly till now</td>\n",
              "      <td>1278</td>\n",
              "      <td>none</td>\n",
              "      <td>NaN</td>\n",
              "      <td>1</td>\n",
              "      <td>36</td>\n",
              "      <td>no current account</td>\n",
              "      <td>less than 100</td>\n",
              "      <td>4</td>\n",
              "      <td>none</td>\n",
              "      <td>Yes</td>\n",
              "      <td>24</td>\n",
              "      <td>Real Estate</td>\n",
              "      <td>management/ self-employed/highly qualified emp...</td>\n",
              "      <td>own</td>\n",
              "      <td>1</td>\n",
              "      <td>NaN</td>\n",
              "    </tr>\n",
              "    <tr>\n",
              "      <th>1</th>\n",
              "      <td>601</td>\n",
              "      <td>1</td>\n",
              "      <td>critical account/other loans existing (not at ...</td>\n",
              "      <td>11590</td>\n",
              "      <td>none</td>\n",
              "      <td>between 1 and 4 years</td>\n",
              "      <td>2</td>\n",
              "      <td>24</td>\n",
              "      <td>no current account</td>\n",
              "      <td>between 100 and 500</td>\n",
              "      <td>2</td>\n",
              "      <td>bank</td>\n",
              "      <td>Yes</td>\n",
              "      <td>48</td>\n",
              "      <td>car or other property</td>\n",
              "      <td>unskilled - resident</td>\n",
              "      <td>rent</td>\n",
              "      <td>4</td>\n",
              "      <td>NaN</td>\n",
              "    </tr>\n",
              "  </tbody>\n",
              "</table>\n",
              "</div>\n",
              "      <button class=\"colab-df-convert\" onclick=\"convertToInteractive('df-08e8999a-bc02-48be-85c1-9f29de3b130d')\"\n",
              "              title=\"Convert this dataframe to an interactive table.\"\n",
              "              style=\"display:none;\">\n",
              "        \n",
              "  <svg xmlns=\"http://www.w3.org/2000/svg\" height=\"24px\"viewBox=\"0 0 24 24\"\n",
              "       width=\"24px\">\n",
              "    <path d=\"M0 0h24v24H0V0z\" fill=\"none\"/>\n",
              "    <path d=\"M18.56 5.44l.94 2.06.94-2.06 2.06-.94-2.06-.94-.94-2.06-.94 2.06-2.06.94zm-11 1L8.5 8.5l.94-2.06 2.06-.94-2.06-.94L8.5 2.5l-.94 2.06-2.06.94zm10 10l.94 2.06.94-2.06 2.06-.94-2.06-.94-.94-2.06-.94 2.06-2.06.94z\"/><path d=\"M17.41 7.96l-1.37-1.37c-.4-.4-.92-.59-1.43-.59-.52 0-1.04.2-1.43.59L10.3 9.45l-7.72 7.72c-.78.78-.78 2.05 0 2.83L4 21.41c.39.39.9.59 1.41.59.51 0 1.02-.2 1.41-.59l7.78-7.78 2.81-2.81c.8-.78.8-2.07 0-2.86zM5.41 20L4 18.59l7.72-7.72 1.47 1.35L5.41 20z\"/>\n",
              "  </svg>\n",
              "      </button>\n",
              "      \n",
              "  <style>\n",
              "    .colab-df-container {\n",
              "      display:flex;\n",
              "      flex-wrap:wrap;\n",
              "      gap: 12px;\n",
              "    }\n",
              "\n",
              "    .colab-df-convert {\n",
              "      background-color: #E8F0FE;\n",
              "      border: none;\n",
              "      border-radius: 50%;\n",
              "      cursor: pointer;\n",
              "      display: none;\n",
              "      fill: #1967D2;\n",
              "      height: 32px;\n",
              "      padding: 0 0 0 0;\n",
              "      width: 32px;\n",
              "    }\n",
              "\n",
              "    .colab-df-convert:hover {\n",
              "      background-color: #E2EBFA;\n",
              "      box-shadow: 0px 1px 2px rgba(60, 64, 67, 0.3), 0px 1px 3px 1px rgba(60, 64, 67, 0.15);\n",
              "      fill: #174EA6;\n",
              "    }\n",
              "\n",
              "    [theme=dark] .colab-df-convert {\n",
              "      background-color: #3B4455;\n",
              "      fill: #D2E3FC;\n",
              "    }\n",
              "\n",
              "    [theme=dark] .colab-df-convert:hover {\n",
              "      background-color: #434B5C;\n",
              "      box-shadow: 0px 1px 3px 1px rgba(0, 0, 0, 0.15);\n",
              "      filter: drop-shadow(0px 1px 2px rgba(0, 0, 0, 0.3));\n",
              "      fill: #FFFFFF;\n",
              "    }\n",
              "  </style>\n",
              "\n",
              "      <script>\n",
              "        const buttonEl =\n",
              "          document.querySelector('#df-08e8999a-bc02-48be-85c1-9f29de3b130d button.colab-df-convert');\n",
              "        buttonEl.style.display =\n",
              "          google.colab.kernel.accessAllowed ? 'block' : 'none';\n",
              "\n",
              "        async function convertToInteractive(key) {\n",
              "          const element = document.querySelector('#df-08e8999a-bc02-48be-85c1-9f29de3b130d');\n",
              "          const dataTable =\n",
              "            await google.colab.kernel.invokeFunction('convertToInteractive',\n",
              "                                                     [key], {});\n",
              "          if (!dataTable) return;\n",
              "\n",
              "          const docLinkHtml = 'Like what you see? Visit the ' +\n",
              "            '<a target=\"_blank\" href=https://colab.research.google.com/notebooks/data_table.ipynb>data table notebook</a>'\n",
              "            + ' to learn more about interactive tables.';\n",
              "          element.innerHTML = '';\n",
              "          dataTable['output_type'] = 'display_data';\n",
              "          await google.colab.output.renderOutput(dataTable, element);\n",
              "          const docLink = document.createElement('div');\n",
              "          docLink.innerHTML = docLinkHtml;\n",
              "          element.appendChild(docLink);\n",
              "        }\n",
              "      </script>\n",
              "    </div>\n",
              "  </div>\n",
              "  "
            ]
          },
          "metadata": {},
          "execution_count": 384
        }
      ]
    },
    {
      "cell_type": "markdown",
      "source": [
        "Dropping these columns because of the following reasons\n",
        "- 1=fedaulted out of 600 rows, 599 rows are missing for this column\n",
        "- Purpose of taking loan - isnt a factor for granting loans\n",
        "- is telephone number available, Marital Status - again not a factor"
      ],
      "metadata": {
        "id": "OQP2xeK7nFtr"
      }
    },
    {
      "cell_type": "markdown",
      "source": [
        "## Pre-processing"
      ],
      "metadata": {
        "id": "0V9FRJlUj58T"
      }
    },
    {
      "cell_type": "code",
      "source": [
        "##label encoding \n",
        "veri_status_mapping={\"none\":0,\"co-applicant\":1,\"gaurantor\":2}\n",
        "df[\"Guarantor or Debtor\"]=df[\"Guarantor or Debtor\"].map(veri_status_mapping)\n",
        "test_data[\"Guarantor or Debtor\"]=test_data[\"Guarantor or Debtor\"].map(veri_status_mapping)"
      ],
      "metadata": {
        "id": "QbPx12GbkD5V"
      },
      "execution_count": 385,
      "outputs": []
    },
    {
      "cell_type": "code",
      "source": [
        "veri_status_mapping={\"for free\":0,\"rent\":1,\"own\":2}\n",
        "df[\"Type of Housing\"]=df[\"Type of Housing\"].map(veri_status_mapping)\n",
        "\n",
        "test_data[\"Type of Housing\"]=test_data[\"Type of Housing\"].map(veri_status_mapping)"
      ],
      "metadata": {
        "id": "kI3AJi8llQzq"
      },
      "execution_count": 386,
      "outputs": []
    },
    {
      "cell_type": "code",
      "source": [
        "veri_status_mapping={\"No\":0,\"Yes\":1}\n",
        "df[\"Working abroad or not\"]=df[\"Working abroad or not\"].map(veri_status_mapping)\n",
        "\n",
        "test_data[\"Working abroad or not\"]=test_data[\"Working abroad or not\"].map(veri_status_mapping)"
      ],
      "metadata": {
        "id": "-idicjfYmzFG"
      },
      "execution_count": 387,
      "outputs": []
    },
    {
      "cell_type": "code",
      "source": [
        "veri_status_mapping={\"No property\":0,\"car or other property\":1,\"building society savings agreement/life insurance\":2,\"Real Estate\":3}\n",
        "df[\"Owned property\"]=df[\"Owned property\"].map(veri_status_mapping)\n",
        "\n",
        "test_data[\"Owned property\"]=test_data[\"Owned property\"].map(veri_status_mapping)"
      ],
      "metadata": {
        "id": "_A3ty_rknHIG"
      },
      "execution_count": 388,
      "outputs": []
    },
    {
      "cell_type": "code",
      "source": [
        "veri_status_mapping={\"unskilled - resident\":0,\"unemployed/ unskilled - non-resident\":1,\"skilled employee / official\":2,\"management/ self-employed/highly qualified employee/ officer\":3}\n",
        "df[\"Type of job performed\"]=df[\"Type of job performed\"].map(veri_status_mapping)\n",
        "\n",
        "test_data[\"Type of job performed\"]=test_data[\"Type of job performed\"].map(veri_status_mapping)"
      ],
      "metadata": {
        "id": "F-IOWkNWn4og"
      },
      "execution_count": 389,
      "outputs": []
    },
    {
      "cell_type": "code",
      "source": [
        "veri_status_mapping={\"unemployed\":0,\"less than a year\":1,\"between 1 and 4 years\":2,\"greater than 4 years\":3}\n",
        "df[\"Number of years of employment\"]=df[\"Number of years of employment\"].map(veri_status_mapping)\n",
        "\n",
        "test_data[\"Number of years of employment\"]=test_data[\"Number of years of employment\"].map(veri_status_mapping)"
      ],
      "metadata": {
        "id": "E4vS0DFGpSb9"
      },
      "execution_count": 390,
      "outputs": []
    },
    {
      "cell_type": "code",
      "source": [
        "veri_status_mapping={\"less than 0\":0,\"no current account\":1,\"between 0 and 200\":2,\"greater than 200\":3}\n",
        "df[\"amount in current account\"]=df[\"amount in current account\"].map(veri_status_mapping)\n",
        "\n",
        "\n",
        "test_data[\"amount in current account\"]=test_data[\"amount in current account\"].map(veri_status_mapping)"
      ],
      "metadata": {
        "id": "55XxuRasqZJt"
      },
      "execution_count": 391,
      "outputs": []
    },
    {
      "cell_type": "code",
      "source": [
        "veri_status_mapping={\"lno savings account\":0,\"less than 100\":1,\"between 100 and 500\":2,\"between 500 and 1000\":3,\"greater than 1000\":4}\n",
        "df[\"amount in savings account\"]=df[\"amount in savings account\"].map(veri_status_mapping)\n",
        "\n",
        "test_data[\"amount in savings account\"]=test_data[\"amount in savings account\"].map(veri_status_mapping)"
      ],
      "metadata": {
        "id": "lemnC3TF1iyP"
      },
      "execution_count": 392,
      "outputs": []
    },
    {
      "cell_type": "code",
      "source": [
        "veri_status_mapping={'existing loans paid back duly till now':4,'critical account/other loans existing (not at this bank)':0,'delay in paying off loans in the past':1,\n",
        "       'all loans at this bank paid back duly':3,\n",
        "       'no loans taken/all loans paid back duly':2}\n",
        "df[\"Loan History\"]=df[\"Loan History\"].map(veri_status_mapping)\n",
        "\n",
        "\n",
        "test_data[\"Loan History\"]=test_data[\"Loan History\"].map(veri_status_mapping)"
      ],
      "metadata": {
        "id": "ln27BqZj2CLA"
      },
      "execution_count": 393,
      "outputs": []
    },
    {
      "cell_type": "code",
      "source": [
        "veri_status_mapping={\"none\":2, \"bank\":1, \"stores\":0}\n",
        "df[\"Other loans plans taken\"]=df[\"Other loans plans taken\"].map(veri_status_mapping)\n",
        "\n",
        "test_data[\"Other loans plans taken\"]=test_data[\"Other loans plans taken\"].map(veri_status_mapping)"
      ],
      "metadata": {
        "id": "4urR-RBA3ry-"
      },
      "execution_count": 394,
      "outputs": []
    },
    {
      "cell_type": "code",
      "source": [
        "df['Number of years of stay in current address'].unique()"
      ],
      "metadata": {
        "colab": {
          "base_uri": "https://localhost:8080/"
        },
        "id": "jW-OGiTUlWCc",
        "outputId": "b63c7ce2-0a06-4af5-9c7f-e5f4f75ee952"
      },
      "execution_count": 395,
      "outputs": [
        {
          "output_type": "execute_result",
          "data": {
            "text/plain": [
              "array([3, 2, 4, 1])"
            ]
          },
          "metadata": {},
          "execution_count": 395
        }
      ]
    },
    {
      "cell_type": "code",
      "source": [
        "test_data.head(2)"
      ],
      "metadata": {
        "colab": {
          "base_uri": "https://localhost:8080/",
          "height": 280
        },
        "id": "5LhTN1VhBgO0",
        "outputId": "f409a053-0f0d-4bda-f8dc-d03223d51f05"
      },
      "execution_count": 396,
      "outputs": [
        {
          "output_type": "execute_result",
          "data": {
            "text/plain": [
              "   Unnamed: 0  Number of people who will provide maintenance  Loan History  \\\n",
              "0         600                                              1             4   \n",
              "1         601                                              1             0   \n",
              "\n",
              "   loan amount taken  Guarantor or Debtor  Number of years of employment  \\\n",
              "0               1278                    0                            NaN   \n",
              "1              11590                    0                            2.0   \n",
              "\n",
              "   Number of loans taken from current bank  \\\n",
              "0                                        1   \n",
              "1                                        2   \n",
              "\n",
              "   Age of the applicant in Number of Years  amount in current account  \\\n",
              "0                                       36                          1   \n",
              "1                                       24                          1   \n",
              "\n",
              "   amount in savings account  % of income paid as installment  \\\n",
              "0                        1.0                                4   \n",
              "1                        2.0                                2   \n",
              "\n",
              "   Other loans plans taken  Working abroad or not  time duration for loan  \\\n",
              "0                        2                      1                      24   \n",
              "1                        1                      1                      48   \n",
              "\n",
              "   Owned property  Type of job performed  Type of Housing  \\\n",
              "0               3                      3                2   \n",
              "1               1                      0                1   \n",
              "\n",
              "   Number of years of stay in current address  Loan Defaulted or not  \n",
              "0                                           1                    NaN  \n",
              "1                                           4                    NaN  "
            ],
            "text/html": [
              "\n",
              "  <div id=\"df-4542d18f-b303-4ea9-a27b-56847fde8be8\">\n",
              "    <div class=\"colab-df-container\">\n",
              "      <div>\n",
              "<style scoped>\n",
              "    .dataframe tbody tr th:only-of-type {\n",
              "        vertical-align: middle;\n",
              "    }\n",
              "\n",
              "    .dataframe tbody tr th {\n",
              "        vertical-align: top;\n",
              "    }\n",
              "\n",
              "    .dataframe thead th {\n",
              "        text-align: right;\n",
              "    }\n",
              "</style>\n",
              "<table border=\"1\" class=\"dataframe\">\n",
              "  <thead>\n",
              "    <tr style=\"text-align: right;\">\n",
              "      <th></th>\n",
              "      <th>Unnamed: 0</th>\n",
              "      <th>Number of people who will provide maintenance</th>\n",
              "      <th>Loan History</th>\n",
              "      <th>loan amount taken</th>\n",
              "      <th>Guarantor or Debtor</th>\n",
              "      <th>Number of years of employment</th>\n",
              "      <th>Number of loans taken from current bank</th>\n",
              "      <th>Age of the applicant in Number of Years</th>\n",
              "      <th>amount in current account</th>\n",
              "      <th>amount in savings account</th>\n",
              "      <th>% of income paid as installment</th>\n",
              "      <th>Other loans plans taken</th>\n",
              "      <th>Working abroad or not</th>\n",
              "      <th>time duration for loan</th>\n",
              "      <th>Owned property</th>\n",
              "      <th>Type of job performed</th>\n",
              "      <th>Type of Housing</th>\n",
              "      <th>Number of years of stay in current address</th>\n",
              "      <th>Loan Defaulted or not</th>\n",
              "    </tr>\n",
              "  </thead>\n",
              "  <tbody>\n",
              "    <tr>\n",
              "      <th>0</th>\n",
              "      <td>600</td>\n",
              "      <td>1</td>\n",
              "      <td>4</td>\n",
              "      <td>1278</td>\n",
              "      <td>0</td>\n",
              "      <td>NaN</td>\n",
              "      <td>1</td>\n",
              "      <td>36</td>\n",
              "      <td>1</td>\n",
              "      <td>1.0</td>\n",
              "      <td>4</td>\n",
              "      <td>2</td>\n",
              "      <td>1</td>\n",
              "      <td>24</td>\n",
              "      <td>3</td>\n",
              "      <td>3</td>\n",
              "      <td>2</td>\n",
              "      <td>1</td>\n",
              "      <td>NaN</td>\n",
              "    </tr>\n",
              "    <tr>\n",
              "      <th>1</th>\n",
              "      <td>601</td>\n",
              "      <td>1</td>\n",
              "      <td>0</td>\n",
              "      <td>11590</td>\n",
              "      <td>0</td>\n",
              "      <td>2.0</td>\n",
              "      <td>2</td>\n",
              "      <td>24</td>\n",
              "      <td>1</td>\n",
              "      <td>2.0</td>\n",
              "      <td>2</td>\n",
              "      <td>1</td>\n",
              "      <td>1</td>\n",
              "      <td>48</td>\n",
              "      <td>1</td>\n",
              "      <td>0</td>\n",
              "      <td>1</td>\n",
              "      <td>4</td>\n",
              "      <td>NaN</td>\n",
              "    </tr>\n",
              "  </tbody>\n",
              "</table>\n",
              "</div>\n",
              "      <button class=\"colab-df-convert\" onclick=\"convertToInteractive('df-4542d18f-b303-4ea9-a27b-56847fde8be8')\"\n",
              "              title=\"Convert this dataframe to an interactive table.\"\n",
              "              style=\"display:none;\">\n",
              "        \n",
              "  <svg xmlns=\"http://www.w3.org/2000/svg\" height=\"24px\"viewBox=\"0 0 24 24\"\n",
              "       width=\"24px\">\n",
              "    <path d=\"M0 0h24v24H0V0z\" fill=\"none\"/>\n",
              "    <path d=\"M18.56 5.44l.94 2.06.94-2.06 2.06-.94-2.06-.94-.94-2.06-.94 2.06-2.06.94zm-11 1L8.5 8.5l.94-2.06 2.06-.94-2.06-.94L8.5 2.5l-.94 2.06-2.06.94zm10 10l.94 2.06.94-2.06 2.06-.94-2.06-.94-.94-2.06-.94 2.06-2.06.94z\"/><path d=\"M17.41 7.96l-1.37-1.37c-.4-.4-.92-.59-1.43-.59-.52 0-1.04.2-1.43.59L10.3 9.45l-7.72 7.72c-.78.78-.78 2.05 0 2.83L4 21.41c.39.39.9.59 1.41.59.51 0 1.02-.2 1.41-.59l7.78-7.78 2.81-2.81c.8-.78.8-2.07 0-2.86zM5.41 20L4 18.59l7.72-7.72 1.47 1.35L5.41 20z\"/>\n",
              "  </svg>\n",
              "      </button>\n",
              "      \n",
              "  <style>\n",
              "    .colab-df-container {\n",
              "      display:flex;\n",
              "      flex-wrap:wrap;\n",
              "      gap: 12px;\n",
              "    }\n",
              "\n",
              "    .colab-df-convert {\n",
              "      background-color: #E8F0FE;\n",
              "      border: none;\n",
              "      border-radius: 50%;\n",
              "      cursor: pointer;\n",
              "      display: none;\n",
              "      fill: #1967D2;\n",
              "      height: 32px;\n",
              "      padding: 0 0 0 0;\n",
              "      width: 32px;\n",
              "    }\n",
              "\n",
              "    .colab-df-convert:hover {\n",
              "      background-color: #E2EBFA;\n",
              "      box-shadow: 0px 1px 2px rgba(60, 64, 67, 0.3), 0px 1px 3px 1px rgba(60, 64, 67, 0.15);\n",
              "      fill: #174EA6;\n",
              "    }\n",
              "\n",
              "    [theme=dark] .colab-df-convert {\n",
              "      background-color: #3B4455;\n",
              "      fill: #D2E3FC;\n",
              "    }\n",
              "\n",
              "    [theme=dark] .colab-df-convert:hover {\n",
              "      background-color: #434B5C;\n",
              "      box-shadow: 0px 1px 3px 1px rgba(0, 0, 0, 0.15);\n",
              "      filter: drop-shadow(0px 1px 2px rgba(0, 0, 0, 0.3));\n",
              "      fill: #FFFFFF;\n",
              "    }\n",
              "  </style>\n",
              "\n",
              "      <script>\n",
              "        const buttonEl =\n",
              "          document.querySelector('#df-4542d18f-b303-4ea9-a27b-56847fde8be8 button.colab-df-convert');\n",
              "        buttonEl.style.display =\n",
              "          google.colab.kernel.accessAllowed ? 'block' : 'none';\n",
              "\n",
              "        async function convertToInteractive(key) {\n",
              "          const element = document.querySelector('#df-4542d18f-b303-4ea9-a27b-56847fde8be8');\n",
              "          const dataTable =\n",
              "            await google.colab.kernel.invokeFunction('convertToInteractive',\n",
              "                                                     [key], {});\n",
              "          if (!dataTable) return;\n",
              "\n",
              "          const docLinkHtml = 'Like what you see? Visit the ' +\n",
              "            '<a target=\"_blank\" href=https://colab.research.google.com/notebooks/data_table.ipynb>data table notebook</a>'\n",
              "            + ' to learn more about interactive tables.';\n",
              "          element.innerHTML = '';\n",
              "          dataTable['output_type'] = 'display_data';\n",
              "          await google.colab.output.renderOutput(dataTable, element);\n",
              "          const docLink = document.createElement('div');\n",
              "          docLink.innerHTML = docLinkHtml;\n",
              "          element.appendChild(docLink);\n",
              "        }\n",
              "      </script>\n",
              "    </div>\n",
              "  </div>\n",
              "  "
            ]
          },
          "metadata": {},
          "execution_count": 396
        }
      ]
    },
    {
      "cell_type": "markdown",
      "source": [
        "Label Encoding helps us to map importance of each individual entities in every feature."
      ],
      "metadata": {
        "id": "WLVtdbNhsFeX"
      }
    },
    {
      "cell_type": "code",
      "source": [
        "df.isna().sum()"
      ],
      "metadata": {
        "colab": {
          "base_uri": "https://localhost:8080/"
        },
        "id": "PrzEpWaA63Gr",
        "outputId": "d4f6e5da-7825-4750-873f-e537554e383b"
      },
      "execution_count": 397,
      "outputs": [
        {
          "output_type": "execute_result",
          "data": {
            "text/plain": [
              "Number of people who will provide maintenance      0\n",
              "Loan History                                       0\n",
              "loan amount taken                                  0\n",
              "Guarantor or Debtor                                0\n",
              "Number of years of employment                    153\n",
              "Number of loans taken from current bank            0\n",
              "Age of the applicant in Number of Years            0\n",
              "amount in current account                          0\n",
              "amount in savings account                        109\n",
              "% of income paid as installment                    0\n",
              "Other loans plans taken                            0\n",
              "Working abroad or not                              0\n",
              "time duration for loan                             0\n",
              "Owned property                                     0\n",
              "Type of job performed                              0\n",
              "Type of Housing                                    0\n",
              "Number of years of stay in current address         0\n",
              "Loan Defaulted or not                              0\n",
              "dtype: int64"
            ]
          },
          "metadata": {},
          "execution_count": 397
        }
      ]
    },
    {
      "cell_type": "code",
      "source": [
        "tf=df.copy()"
      ],
      "metadata": {
        "id": "sji8g7d1K6Bb"
      },
      "execution_count": 398,
      "outputs": []
    },
    {
      "cell_type": "code",
      "source": [
        "from sklearn.impute import KNNImputer\n",
        "imputer = KNNImputer(n_neighbors=3)\n",
        "main_train = imputer.fit_transform(df)\n",
        "test = imputer.fit_transform(test_data)"
      ],
      "metadata": {
        "id": "mmqe20HP0aBW"
      },
      "execution_count": 399,
      "outputs": []
    },
    {
      "cell_type": "markdown",
      "source": [
        "3 is the Number of neighbors to use querying the Nan values."
      ],
      "metadata": {
        "id": "oXkzFJlLrAWX"
      }
    },
    {
      "cell_type": "markdown",
      "source": [
        "KNN Imputer utilises Euclidean distance concept to fill the Nan values, hence it scales all the values first"
      ],
      "metadata": {
        "id": "mAUgM4z8qhkU"
      }
    },
    {
      "cell_type": "code",
      "source": [
        "tf = pd.DataFrame(main_train, columns =df.columns) \n",
        "tf.head()"
      ],
      "metadata": {
        "colab": {
          "base_uri": "https://localhost:8080/",
          "height": 374
        },
        "id": "nSiTUY2n0vxK",
        "outputId": "b02c5e11-5d7f-4134-fa1b-ffd928d20a8b"
      },
      "execution_count": 400,
      "outputs": [
        {
          "output_type": "execute_result",
          "data": {
            "text/plain": [
              "   Number of people who will provide maintenance  Loan History  \\\n",
              "0                                            1.0           0.0   \n",
              "1                                            1.0           4.0   \n",
              "2                                            1.0           4.0   \n",
              "3                                            1.0           4.0   \n",
              "4                                            1.0           0.0   \n",
              "\n",
              "   loan amount taken  Guarantor or Debtor  Number of years of employment  \\\n",
              "0             1028.0                  0.0                            2.0   \n",
              "1            10222.0                  0.0                            3.0   \n",
              "2              701.0                  0.0                            2.0   \n",
              "3             1670.0                  0.0                            1.0   \n",
              "4             1163.0                  0.0                            2.0   \n",
              "\n",
              "   Number of loans taken from current bank  \\\n",
              "0                                      2.0   \n",
              "1                                      1.0   \n",
              "2                                      1.0   \n",
              "3                                      1.0   \n",
              "4                                      1.0   \n",
              "\n",
              "   Age of the applicant in Number of Years  amount in current account  \\\n",
              "0                                     36.0                        1.0   \n",
              "1                                     37.0                        1.0   \n",
              "2                                     40.0                        0.0   \n",
              "3                                     22.0                        2.0   \n",
              "4                                     44.0                        1.0   \n",
              "\n",
              "   amount in savings account  % of income paid as installment  \\\n",
              "0                        1.0                              4.0   \n",
              "1                        2.0                              4.0   \n",
              "2                        1.0                              4.0   \n",
              "3                        1.0                              4.0   \n",
              "4                        3.0                              4.0   \n",
              "\n",
              "   Other loans plans taken  Working abroad or not  time duration for loan  \\\n",
              "0                      2.0                    1.0                    18.0   \n",
              "1                      0.0                    1.0                    48.0   \n",
              "2                      2.0                    1.0                    12.0   \n",
              "3                      2.0                    1.0                     9.0   \n",
              "4                      2.0                    1.0                    12.0   \n",
              "\n",
              "   Owned property  Type of job performed  Type of Housing  \\\n",
              "0             3.0                    2.0              2.0   \n",
              "1             1.0                    2.0              2.0   \n",
              "2             3.0                    0.0              2.0   \n",
              "3             1.0                    2.0              2.0   \n",
              "4             3.0                    2.0              2.0   \n",
              "\n",
              "   Number of years of stay in current address  Loan Defaulted or not  \n",
              "0                                         3.0                    1.0  \n",
              "1                                         3.0                    1.0  \n",
              "2                                         2.0                    1.0  \n",
              "3                                         2.0                    2.0  \n",
              "4                                         4.0                    1.0  "
            ],
            "text/html": [
              "\n",
              "  <div id=\"df-218594ac-597c-453b-ba07-37ef6a037509\">\n",
              "    <div class=\"colab-df-container\">\n",
              "      <div>\n",
              "<style scoped>\n",
              "    .dataframe tbody tr th:only-of-type {\n",
              "        vertical-align: middle;\n",
              "    }\n",
              "\n",
              "    .dataframe tbody tr th {\n",
              "        vertical-align: top;\n",
              "    }\n",
              "\n",
              "    .dataframe thead th {\n",
              "        text-align: right;\n",
              "    }\n",
              "</style>\n",
              "<table border=\"1\" class=\"dataframe\">\n",
              "  <thead>\n",
              "    <tr style=\"text-align: right;\">\n",
              "      <th></th>\n",
              "      <th>Number of people who will provide maintenance</th>\n",
              "      <th>Loan History</th>\n",
              "      <th>loan amount taken</th>\n",
              "      <th>Guarantor or Debtor</th>\n",
              "      <th>Number of years of employment</th>\n",
              "      <th>Number of loans taken from current bank</th>\n",
              "      <th>Age of the applicant in Number of Years</th>\n",
              "      <th>amount in current account</th>\n",
              "      <th>amount in savings account</th>\n",
              "      <th>% of income paid as installment</th>\n",
              "      <th>Other loans plans taken</th>\n",
              "      <th>Working abroad or not</th>\n",
              "      <th>time duration for loan</th>\n",
              "      <th>Owned property</th>\n",
              "      <th>Type of job performed</th>\n",
              "      <th>Type of Housing</th>\n",
              "      <th>Number of years of stay in current address</th>\n",
              "      <th>Loan Defaulted or not</th>\n",
              "    </tr>\n",
              "  </thead>\n",
              "  <tbody>\n",
              "    <tr>\n",
              "      <th>0</th>\n",
              "      <td>1.0</td>\n",
              "      <td>0.0</td>\n",
              "      <td>1028.0</td>\n",
              "      <td>0.0</td>\n",
              "      <td>2.0</td>\n",
              "      <td>2.0</td>\n",
              "      <td>36.0</td>\n",
              "      <td>1.0</td>\n",
              "      <td>1.0</td>\n",
              "      <td>4.0</td>\n",
              "      <td>2.0</td>\n",
              "      <td>1.0</td>\n",
              "      <td>18.0</td>\n",
              "      <td>3.0</td>\n",
              "      <td>2.0</td>\n",
              "      <td>2.0</td>\n",
              "      <td>3.0</td>\n",
              "      <td>1.0</td>\n",
              "    </tr>\n",
              "    <tr>\n",
              "      <th>1</th>\n",
              "      <td>1.0</td>\n",
              "      <td>4.0</td>\n",
              "      <td>10222.0</td>\n",
              "      <td>0.0</td>\n",
              "      <td>3.0</td>\n",
              "      <td>1.0</td>\n",
              "      <td>37.0</td>\n",
              "      <td>1.0</td>\n",
              "      <td>2.0</td>\n",
              "      <td>4.0</td>\n",
              "      <td>0.0</td>\n",
              "      <td>1.0</td>\n",
              "      <td>48.0</td>\n",
              "      <td>1.0</td>\n",
              "      <td>2.0</td>\n",
              "      <td>2.0</td>\n",
              "      <td>3.0</td>\n",
              "      <td>1.0</td>\n",
              "    </tr>\n",
              "    <tr>\n",
              "      <th>2</th>\n",
              "      <td>1.0</td>\n",
              "      <td>4.0</td>\n",
              "      <td>701.0</td>\n",
              "      <td>0.0</td>\n",
              "      <td>2.0</td>\n",
              "      <td>1.0</td>\n",
              "      <td>40.0</td>\n",
              "      <td>0.0</td>\n",
              "      <td>1.0</td>\n",
              "      <td>4.0</td>\n",
              "      <td>2.0</td>\n",
              "      <td>1.0</td>\n",
              "      <td>12.0</td>\n",
              "      <td>3.0</td>\n",
              "      <td>0.0</td>\n",
              "      <td>2.0</td>\n",
              "      <td>2.0</td>\n",
              "      <td>1.0</td>\n",
              "    </tr>\n",
              "    <tr>\n",
              "      <th>3</th>\n",
              "      <td>1.0</td>\n",
              "      <td>4.0</td>\n",
              "      <td>1670.0</td>\n",
              "      <td>0.0</td>\n",
              "      <td>1.0</td>\n",
              "      <td>1.0</td>\n",
              "      <td>22.0</td>\n",
              "      <td>2.0</td>\n",
              "      <td>1.0</td>\n",
              "      <td>4.0</td>\n",
              "      <td>2.0</td>\n",
              "      <td>1.0</td>\n",
              "      <td>9.0</td>\n",
              "      <td>1.0</td>\n",
              "      <td>2.0</td>\n",
              "      <td>2.0</td>\n",
              "      <td>2.0</td>\n",
              "      <td>2.0</td>\n",
              "    </tr>\n",
              "    <tr>\n",
              "      <th>4</th>\n",
              "      <td>1.0</td>\n",
              "      <td>0.0</td>\n",
              "      <td>1163.0</td>\n",
              "      <td>0.0</td>\n",
              "      <td>2.0</td>\n",
              "      <td>1.0</td>\n",
              "      <td>44.0</td>\n",
              "      <td>1.0</td>\n",
              "      <td>3.0</td>\n",
              "      <td>4.0</td>\n",
              "      <td>2.0</td>\n",
              "      <td>1.0</td>\n",
              "      <td>12.0</td>\n",
              "      <td>3.0</td>\n",
              "      <td>2.0</td>\n",
              "      <td>2.0</td>\n",
              "      <td>4.0</td>\n",
              "      <td>1.0</td>\n",
              "    </tr>\n",
              "  </tbody>\n",
              "</table>\n",
              "</div>\n",
              "      <button class=\"colab-df-convert\" onclick=\"convertToInteractive('df-218594ac-597c-453b-ba07-37ef6a037509')\"\n",
              "              title=\"Convert this dataframe to an interactive table.\"\n",
              "              style=\"display:none;\">\n",
              "        \n",
              "  <svg xmlns=\"http://www.w3.org/2000/svg\" height=\"24px\"viewBox=\"0 0 24 24\"\n",
              "       width=\"24px\">\n",
              "    <path d=\"M0 0h24v24H0V0z\" fill=\"none\"/>\n",
              "    <path d=\"M18.56 5.44l.94 2.06.94-2.06 2.06-.94-2.06-.94-.94-2.06-.94 2.06-2.06.94zm-11 1L8.5 8.5l.94-2.06 2.06-.94-2.06-.94L8.5 2.5l-.94 2.06-2.06.94zm10 10l.94 2.06.94-2.06 2.06-.94-2.06-.94-.94-2.06-.94 2.06-2.06.94z\"/><path d=\"M17.41 7.96l-1.37-1.37c-.4-.4-.92-.59-1.43-.59-.52 0-1.04.2-1.43.59L10.3 9.45l-7.72 7.72c-.78.78-.78 2.05 0 2.83L4 21.41c.39.39.9.59 1.41.59.51 0 1.02-.2 1.41-.59l7.78-7.78 2.81-2.81c.8-.78.8-2.07 0-2.86zM5.41 20L4 18.59l7.72-7.72 1.47 1.35L5.41 20z\"/>\n",
              "  </svg>\n",
              "      </button>\n",
              "      \n",
              "  <style>\n",
              "    .colab-df-container {\n",
              "      display:flex;\n",
              "      flex-wrap:wrap;\n",
              "      gap: 12px;\n",
              "    }\n",
              "\n",
              "    .colab-df-convert {\n",
              "      background-color: #E8F0FE;\n",
              "      border: none;\n",
              "      border-radius: 50%;\n",
              "      cursor: pointer;\n",
              "      display: none;\n",
              "      fill: #1967D2;\n",
              "      height: 32px;\n",
              "      padding: 0 0 0 0;\n",
              "      width: 32px;\n",
              "    }\n",
              "\n",
              "    .colab-df-convert:hover {\n",
              "      background-color: #E2EBFA;\n",
              "      box-shadow: 0px 1px 2px rgba(60, 64, 67, 0.3), 0px 1px 3px 1px rgba(60, 64, 67, 0.15);\n",
              "      fill: #174EA6;\n",
              "    }\n",
              "\n",
              "    [theme=dark] .colab-df-convert {\n",
              "      background-color: #3B4455;\n",
              "      fill: #D2E3FC;\n",
              "    }\n",
              "\n",
              "    [theme=dark] .colab-df-convert:hover {\n",
              "      background-color: #434B5C;\n",
              "      box-shadow: 0px 1px 3px 1px rgba(0, 0, 0, 0.15);\n",
              "      filter: drop-shadow(0px 1px 2px rgba(0, 0, 0, 0.3));\n",
              "      fill: #FFFFFF;\n",
              "    }\n",
              "  </style>\n",
              "\n",
              "      <script>\n",
              "        const buttonEl =\n",
              "          document.querySelector('#df-218594ac-597c-453b-ba07-37ef6a037509 button.colab-df-convert');\n",
              "        buttonEl.style.display =\n",
              "          google.colab.kernel.accessAllowed ? 'block' : 'none';\n",
              "\n",
              "        async function convertToInteractive(key) {\n",
              "          const element = document.querySelector('#df-218594ac-597c-453b-ba07-37ef6a037509');\n",
              "          const dataTable =\n",
              "            await google.colab.kernel.invokeFunction('convertToInteractive',\n",
              "                                                     [key], {});\n",
              "          if (!dataTable) return;\n",
              "\n",
              "          const docLinkHtml = 'Like what you see? Visit the ' +\n",
              "            '<a target=\"_blank\" href=https://colab.research.google.com/notebooks/data_table.ipynb>data table notebook</a>'\n",
              "            + ' to learn more about interactive tables.';\n",
              "          element.innerHTML = '';\n",
              "          dataTable['output_type'] = 'display_data';\n",
              "          await google.colab.output.renderOutput(dataTable, element);\n",
              "          const docLink = document.createElement('div');\n",
              "          docLink.innerHTML = docLinkHtml;\n",
              "          element.appendChild(docLink);\n",
              "        }\n",
              "      </script>\n",
              "    </div>\n",
              "  </div>\n",
              "  "
            ]
          },
          "metadata": {},
          "execution_count": 400
        }
      ]
    },
    {
      "cell_type": "code",
      "source": [
        "tz.shape"
      ],
      "metadata": {
        "colab": {
          "base_uri": "https://localhost:8080/"
        },
        "id": "aIj2rbalEtO1",
        "outputId": "dd4c077d-68fc-4750-ee76-24aa959e7aaa"
      },
      "execution_count": 401,
      "outputs": [
        {
          "output_type": "execute_result",
          "data": {
            "text/plain": [
              "(400, 18)"
            ]
          },
          "metadata": {},
          "execution_count": 401
        }
      ]
    },
    {
      "cell_type": "code",
      "source": [
        "tz = pd.DataFrame(test, columns =test_data.columns[:-1]) \n",
        "tz.head()"
      ],
      "metadata": {
        "colab": {
          "base_uri": "https://localhost:8080/",
          "height": 374
        },
        "id": "4PyI17b31Cof",
        "outputId": "2afa1795-5207-48e1-dc06-ab0c119f10eb"
      },
      "execution_count": 402,
      "outputs": [
        {
          "output_type": "execute_result",
          "data": {
            "text/plain": [
              "   Unnamed: 0  Number of people who will provide maintenance  Loan History  \\\n",
              "0       600.0                                            1.0           4.0   \n",
              "1       601.0                                            1.0           0.0   \n",
              "2       602.0                                            1.0           4.0   \n",
              "3       603.0                                            1.0           0.0   \n",
              "4       604.0                                            1.0           4.0   \n",
              "\n",
              "   loan amount taken  Guarantor or Debtor  Number of years of employment  \\\n",
              "0             1278.0                  0.0                       2.333333   \n",
              "1            11590.0                  0.0                       2.000000   \n",
              "2             1366.0                  0.0                       1.000000   \n",
              "3            14179.0                  0.0                       3.000000   \n",
              "4             1236.0                  0.0                       2.000000   \n",
              "\n",
              "   Number of loans taken from current bank  \\\n",
              "0                                      1.0   \n",
              "1                                      2.0   \n",
              "2                                      1.0   \n",
              "3                                      2.0   \n",
              "4                                      1.0   \n",
              "\n",
              "   Age of the applicant in Number of Years  amount in current account  \\\n",
              "0                                     36.0                        1.0   \n",
              "1                                     24.0                        1.0   \n",
              "2                                     22.0                        0.0   \n",
              "3                                     30.0                        0.0   \n",
              "4                                     50.0                        1.0   \n",
              "\n",
              "   amount in savings account  % of income paid as installment  \\\n",
              "0                   1.000000                              4.0   \n",
              "1                   2.000000                              2.0   \n",
              "2                   1.000000                              3.0   \n",
              "3                   1.666667                              4.0   \n",
              "4                   3.000000                              2.0   \n",
              "\n",
              "   Other loans plans taken  Working abroad or not  time duration for loan  \\\n",
              "0                      2.0                    1.0                    24.0   \n",
              "1                      1.0                    1.0                    48.0   \n",
              "2                      2.0                    1.0                     9.0   \n",
              "3                      2.0                    1.0                    39.0   \n",
              "4                      2.0                    1.0                     6.0   \n",
              "\n",
              "   Owned property  Type of job performed  Type of Housing  \\\n",
              "0             3.0                    3.0              2.0   \n",
              "1             1.0                    0.0              1.0   \n",
              "2             2.0                    2.0              1.0   \n",
              "3             2.0                    3.0              2.0   \n",
              "4             2.0                    2.0              1.0   \n",
              "\n",
              "   Number of years of stay in current address  \n",
              "0                                         1.0  \n",
              "1                                         4.0  \n",
              "2                                         4.0  \n",
              "3                                         4.0  \n",
              "4                                         4.0  "
            ],
            "text/html": [
              "\n",
              "  <div id=\"df-7680aaea-3300-4483-8ae0-0777ee745597\">\n",
              "    <div class=\"colab-df-container\">\n",
              "      <div>\n",
              "<style scoped>\n",
              "    .dataframe tbody tr th:only-of-type {\n",
              "        vertical-align: middle;\n",
              "    }\n",
              "\n",
              "    .dataframe tbody tr th {\n",
              "        vertical-align: top;\n",
              "    }\n",
              "\n",
              "    .dataframe thead th {\n",
              "        text-align: right;\n",
              "    }\n",
              "</style>\n",
              "<table border=\"1\" class=\"dataframe\">\n",
              "  <thead>\n",
              "    <tr style=\"text-align: right;\">\n",
              "      <th></th>\n",
              "      <th>Unnamed: 0</th>\n",
              "      <th>Number of people who will provide maintenance</th>\n",
              "      <th>Loan History</th>\n",
              "      <th>loan amount taken</th>\n",
              "      <th>Guarantor or Debtor</th>\n",
              "      <th>Number of years of employment</th>\n",
              "      <th>Number of loans taken from current bank</th>\n",
              "      <th>Age of the applicant in Number of Years</th>\n",
              "      <th>amount in current account</th>\n",
              "      <th>amount in savings account</th>\n",
              "      <th>% of income paid as installment</th>\n",
              "      <th>Other loans plans taken</th>\n",
              "      <th>Working abroad or not</th>\n",
              "      <th>time duration for loan</th>\n",
              "      <th>Owned property</th>\n",
              "      <th>Type of job performed</th>\n",
              "      <th>Type of Housing</th>\n",
              "      <th>Number of years of stay in current address</th>\n",
              "    </tr>\n",
              "  </thead>\n",
              "  <tbody>\n",
              "    <tr>\n",
              "      <th>0</th>\n",
              "      <td>600.0</td>\n",
              "      <td>1.0</td>\n",
              "      <td>4.0</td>\n",
              "      <td>1278.0</td>\n",
              "      <td>0.0</td>\n",
              "      <td>2.333333</td>\n",
              "      <td>1.0</td>\n",
              "      <td>36.0</td>\n",
              "      <td>1.0</td>\n",
              "      <td>1.000000</td>\n",
              "      <td>4.0</td>\n",
              "      <td>2.0</td>\n",
              "      <td>1.0</td>\n",
              "      <td>24.0</td>\n",
              "      <td>3.0</td>\n",
              "      <td>3.0</td>\n",
              "      <td>2.0</td>\n",
              "      <td>1.0</td>\n",
              "    </tr>\n",
              "    <tr>\n",
              "      <th>1</th>\n",
              "      <td>601.0</td>\n",
              "      <td>1.0</td>\n",
              "      <td>0.0</td>\n",
              "      <td>11590.0</td>\n",
              "      <td>0.0</td>\n",
              "      <td>2.000000</td>\n",
              "      <td>2.0</td>\n",
              "      <td>24.0</td>\n",
              "      <td>1.0</td>\n",
              "      <td>2.000000</td>\n",
              "      <td>2.0</td>\n",
              "      <td>1.0</td>\n",
              "      <td>1.0</td>\n",
              "      <td>48.0</td>\n",
              "      <td>1.0</td>\n",
              "      <td>0.0</td>\n",
              "      <td>1.0</td>\n",
              "      <td>4.0</td>\n",
              "    </tr>\n",
              "    <tr>\n",
              "      <th>2</th>\n",
              "      <td>602.0</td>\n",
              "      <td>1.0</td>\n",
              "      <td>4.0</td>\n",
              "      <td>1366.0</td>\n",
              "      <td>0.0</td>\n",
              "      <td>1.000000</td>\n",
              "      <td>1.0</td>\n",
              "      <td>22.0</td>\n",
              "      <td>0.0</td>\n",
              "      <td>1.000000</td>\n",
              "      <td>3.0</td>\n",
              "      <td>2.0</td>\n",
              "      <td>1.0</td>\n",
              "      <td>9.0</td>\n",
              "      <td>2.0</td>\n",
              "      <td>2.0</td>\n",
              "      <td>1.0</td>\n",
              "      <td>4.0</td>\n",
              "    </tr>\n",
              "    <tr>\n",
              "      <th>3</th>\n",
              "      <td>603.0</td>\n",
              "      <td>1.0</td>\n",
              "      <td>0.0</td>\n",
              "      <td>14179.0</td>\n",
              "      <td>0.0</td>\n",
              "      <td>3.000000</td>\n",
              "      <td>2.0</td>\n",
              "      <td>30.0</td>\n",
              "      <td>0.0</td>\n",
              "      <td>1.666667</td>\n",
              "      <td>4.0</td>\n",
              "      <td>2.0</td>\n",
              "      <td>1.0</td>\n",
              "      <td>39.0</td>\n",
              "      <td>2.0</td>\n",
              "      <td>3.0</td>\n",
              "      <td>2.0</td>\n",
              "      <td>4.0</td>\n",
              "    </tr>\n",
              "    <tr>\n",
              "      <th>4</th>\n",
              "      <td>604.0</td>\n",
              "      <td>1.0</td>\n",
              "      <td>4.0</td>\n",
              "      <td>1236.0</td>\n",
              "      <td>0.0</td>\n",
              "      <td>2.000000</td>\n",
              "      <td>1.0</td>\n",
              "      <td>50.0</td>\n",
              "      <td>1.0</td>\n",
              "      <td>3.000000</td>\n",
              "      <td>2.0</td>\n",
              "      <td>2.0</td>\n",
              "      <td>1.0</td>\n",
              "      <td>6.0</td>\n",
              "      <td>2.0</td>\n",
              "      <td>2.0</td>\n",
              "      <td>1.0</td>\n",
              "      <td>4.0</td>\n",
              "    </tr>\n",
              "  </tbody>\n",
              "</table>\n",
              "</div>\n",
              "      <button class=\"colab-df-convert\" onclick=\"convertToInteractive('df-7680aaea-3300-4483-8ae0-0777ee745597')\"\n",
              "              title=\"Convert this dataframe to an interactive table.\"\n",
              "              style=\"display:none;\">\n",
              "        \n",
              "  <svg xmlns=\"http://www.w3.org/2000/svg\" height=\"24px\"viewBox=\"0 0 24 24\"\n",
              "       width=\"24px\">\n",
              "    <path d=\"M0 0h24v24H0V0z\" fill=\"none\"/>\n",
              "    <path d=\"M18.56 5.44l.94 2.06.94-2.06 2.06-.94-2.06-.94-.94-2.06-.94 2.06-2.06.94zm-11 1L8.5 8.5l.94-2.06 2.06-.94-2.06-.94L8.5 2.5l-.94 2.06-2.06.94zm10 10l.94 2.06.94-2.06 2.06-.94-2.06-.94-.94-2.06-.94 2.06-2.06.94z\"/><path d=\"M17.41 7.96l-1.37-1.37c-.4-.4-.92-.59-1.43-.59-.52 0-1.04.2-1.43.59L10.3 9.45l-7.72 7.72c-.78.78-.78 2.05 0 2.83L4 21.41c.39.39.9.59 1.41.59.51 0 1.02-.2 1.41-.59l7.78-7.78 2.81-2.81c.8-.78.8-2.07 0-2.86zM5.41 20L4 18.59l7.72-7.72 1.47 1.35L5.41 20z\"/>\n",
              "  </svg>\n",
              "      </button>\n",
              "      \n",
              "  <style>\n",
              "    .colab-df-container {\n",
              "      display:flex;\n",
              "      flex-wrap:wrap;\n",
              "      gap: 12px;\n",
              "    }\n",
              "\n",
              "    .colab-df-convert {\n",
              "      background-color: #E8F0FE;\n",
              "      border: none;\n",
              "      border-radius: 50%;\n",
              "      cursor: pointer;\n",
              "      display: none;\n",
              "      fill: #1967D2;\n",
              "      height: 32px;\n",
              "      padding: 0 0 0 0;\n",
              "      width: 32px;\n",
              "    }\n",
              "\n",
              "    .colab-df-convert:hover {\n",
              "      background-color: #E2EBFA;\n",
              "      box-shadow: 0px 1px 2px rgba(60, 64, 67, 0.3), 0px 1px 3px 1px rgba(60, 64, 67, 0.15);\n",
              "      fill: #174EA6;\n",
              "    }\n",
              "\n",
              "    [theme=dark] .colab-df-convert {\n",
              "      background-color: #3B4455;\n",
              "      fill: #D2E3FC;\n",
              "    }\n",
              "\n",
              "    [theme=dark] .colab-df-convert:hover {\n",
              "      background-color: #434B5C;\n",
              "      box-shadow: 0px 1px 3px 1px rgba(0, 0, 0, 0.15);\n",
              "      filter: drop-shadow(0px 1px 2px rgba(0, 0, 0, 0.3));\n",
              "      fill: #FFFFFF;\n",
              "    }\n",
              "  </style>\n",
              "\n",
              "      <script>\n",
              "        const buttonEl =\n",
              "          document.querySelector('#df-7680aaea-3300-4483-8ae0-0777ee745597 button.colab-df-convert');\n",
              "        buttonEl.style.display =\n",
              "          google.colab.kernel.accessAllowed ? 'block' : 'none';\n",
              "\n",
              "        async function convertToInteractive(key) {\n",
              "          const element = document.querySelector('#df-7680aaea-3300-4483-8ae0-0777ee745597');\n",
              "          const dataTable =\n",
              "            await google.colab.kernel.invokeFunction('convertToInteractive',\n",
              "                                                     [key], {});\n",
              "          if (!dataTable) return;\n",
              "\n",
              "          const docLinkHtml = 'Like what you see? Visit the ' +\n",
              "            '<a target=\"_blank\" href=https://colab.research.google.com/notebooks/data_table.ipynb>data table notebook</a>'\n",
              "            + ' to learn more about interactive tables.';\n",
              "          element.innerHTML = '';\n",
              "          dataTable['output_type'] = 'display_data';\n",
              "          await google.colab.output.renderOutput(dataTable, element);\n",
              "          const docLink = document.createElement('div');\n",
              "          docLink.innerHTML = docLinkHtml;\n",
              "          element.appendChild(docLink);\n",
              "        }\n",
              "      </script>\n",
              "    </div>\n",
              "  </div>\n",
              "  "
            ]
          },
          "metadata": {},
          "execution_count": 402
        }
      ]
    },
    {
      "cell_type": "code",
      "source": [
        "df = tf.copy()"
      ],
      "metadata": {
        "id": "MROhLZy61zf7"
      },
      "execution_count": 403,
      "outputs": []
    },
    {
      "cell_type": "markdown",
      "source": [
        "Train Test Split"
      ],
      "metadata": {
        "id": "y1hVgWCtrPWW"
      }
    },
    {
      "cell_type": "code",
      "source": [
        "X = df.drop(['Loan Defaulted or not'],axis=1)\n",
        "y = df['Loan Defaulted or not']"
      ],
      "metadata": {
        "id": "VOJma0mh-kRo"
      },
      "execution_count": 404,
      "outputs": []
    },
    {
      "cell_type": "code",
      "source": [
        "from sklearn.model_selection import train_test_split\n",
        "  \n",
        "X_train, X_test, y_train, y_test = train_test_split(X, y, test_size = 0.3, random_state = 0)"
      ],
      "metadata": {
        "id": "ntrDpIT-_9DA"
      },
      "execution_count": 405,
      "outputs": []
    },
    {
      "cell_type": "code",
      "source": [
        "from sklearn.preprocessing import MinMaxScaler\n",
        "scaler = MinMaxScaler().fit(X_train)\n",
        "X_train = scaler.transform(X_train)\n",
        "X_test = scaler.transform(X_test)"
      ],
      "metadata": {
        "id": "0gkNMq-l2gd5"
      },
      "execution_count": 406,
      "outputs": []
    },
    {
      "cell_type": "code",
      "source": [
        "import joblib\n",
        "joblib.dump(scaler,\"minmaxscaler.joblib\")"
      ],
      "metadata": {
        "colab": {
          "base_uri": "https://localhost:8080/"
        },
        "id": "vfvkZBXi82WM",
        "outputId": "2f3ab6a5-fcaf-44e6-9a37-6f55605bdf77"
      },
      "execution_count": 407,
      "outputs": [
        {
          "output_type": "execute_result",
          "data": {
            "text/plain": [
              "['minmaxscaler.joblib']"
            ]
          },
          "metadata": {},
          "execution_count": 407
        }
      ]
    },
    {
      "cell_type": "code",
      "source": [
        "clf = RandomForestClassifier(n_estimators=100, random_state=0)\n",
        "my_model = clf.fit(X_train, y_train)\n",
        "\n",
        "y_pred = clf.predict(X_test)\n",
        "from sklearn.metrics import accuracy_score\n",
        "\n",
        "print('Model accuracy score with 10 decision-trees : {0:0.4f}'. format(accuracy_score(y_test, y_pred)))"
      ],
      "metadata": {
        "colab": {
          "base_uri": "https://localhost:8080/"
        },
        "id": "uJaehYyO_-2f",
        "outputId": "a06def58-f136-4db7-e49a-86509a3e727d"
      },
      "execution_count": 408,
      "outputs": [
        {
          "output_type": "stream",
          "name": "stdout",
          "text": [
            "Model accuracy score with 10 decision-trees : 0.7222\n"
          ]
        }
      ]
    },
    {
      "cell_type": "markdown",
      "source": [
        "Features with the highest score sorted in ascending manner"
      ],
      "metadata": {
        "id": "hnLXpoBOBh58"
      }
    },
    {
      "cell_type": "code",
      "source": [
        "feature_scores = pd.Series(clf.feature_importances_, index=df.columns[:-1]).sort_values(ascending=False)\n",
        "data = pd.DataFrame(feature_scores)\n",
        "data['index'] = data.index\n",
        "data.rename(columns = {0:'value'}, inplace = True)\n",
        "data.reset_index(drop=True, inplace=True)\n",
        "top = data['index'].head(25).values.tolist()\n",
        "\n",
        "f, ax = plt.subplots(figsize=(20, 8))\n",
        "ax = sns.barplot(x='value', y='index', data=data)\n",
        "ax.set_title(\"Visualize feature scores of the features\")\n",
        "ax.set_yticklabels(feature_scores.index)\n",
        "ax.set_xlabel(\"Feature importance score\")\n",
        "ax.set_ylabel(\"Features\")\n",
        "\n",
        "plt.show()"
      ],
      "metadata": {
        "id": "XCOx0ZcNapFb",
        "colab": {
          "base_uri": "https://localhost:8080/",
          "height": 252
        },
        "outputId": "96ad6241-d87c-43fb-ed9c-4c6ab4ebe54f"
      },
      "execution_count": 409,
      "outputs": [
        {
          "output_type": "display_data",
          "data": {
            "text/plain": [
              "<Figure size 1440x576 with 1 Axes>"
            ],
            "image/png": "[encoded data removed]"
          },
          "metadata": {}
        }
      ]
    },
    {
      "cell_type": "markdown",
      "source": [
        "Using SMOTE Analysis to address the imbalanced dataset by oversampling the minority class"
      ],
      "metadata": {
        "id": "Oa-7oFerrY0y"
      }
    },
    {
      "cell_type": "code",
      "source": [
        "print(\"Before OverSampling, counts of label '1': {}\".format(sum(y_train == 1)))\n",
        "print(\"Before OverSampling, counts of label '2': {} \\n\".format(sum(y_train == 2)))\n",
        "\n",
        "from imblearn.over_sampling import SMOTE\n",
        "sm = SMOTE(random_state = 2)\n",
        "X_train_res, y_train_res = sm.fit_resample(X_train, y_train.ravel())\n",
        "  \n",
        "print('After OverSampling, the shape of train_X: {}'.format(X_train_res.shape))\n",
        "print('After OverSampling, the shape of train_y: {} \\n'.format(y_train_res.shape))\n",
        "  \n",
        "print(\"After OverSampling, counts of label '1': {}\".format(sum(y_train_res == 1)))\n",
        "print(\"After OverSampling, counts of label '2': {}\".format(sum(y_train_res == 2)))"
      ],
      "metadata": {
        "colab": {
          "base_uri": "https://localhost:8080/"
        },
        "id": "6p5Pwyd_ACSh",
        "outputId": "b16ac240-ea00-4a73-cef2-b5f95f873dc6"
      },
      "execution_count": 410,
      "outputs": [
        {
          "output_type": "stream",
          "name": "stdout",
          "text": [
            "Before OverSampling, counts of label '1': 303\n",
            "Before OverSampling, counts of label '2': 117 \n",
            "\n",
            "After OverSampling, the shape of train_X: (606, 17)\n",
            "After OverSampling, the shape of train_y: (606,) \n",
            "\n",
            "After OverSampling, counts of label '1': 303\n",
            "After OverSampling, counts of label '2': 303\n"
          ]
        }
      ]
    },
    {
      "cell_type": "code",
      "source": [
        "X_train.shape"
      ],
      "metadata": {
        "colab": {
          "base_uri": "https://localhost:8080/"
        },
        "id": "OxwAeyP0X98p",
        "outputId": "2cc9b97f-cfaf-40a0-b74b-287519ffbddc"
      },
      "execution_count": 411,
      "outputs": [
        {
          "output_type": "execute_result",
          "data": {
            "text/plain": [
              "(420, 17)"
            ]
          },
          "metadata": {},
          "execution_count": 411
        }
      ]
    },
    {
      "cell_type": "markdown",
      "source": [
        "# Model Testing"
      ],
      "metadata": {
        "id": "5W-C0So4xgce"
      }
    },
    {
      "cell_type": "markdown",
      "source": [
        "Creating empty dictionary to store the scores for the evaluation of models"
      ],
      "metadata": {
        "id": "Wah55tEwrxfh"
      }
    },
    {
      "cell_type": "code",
      "source": [
        "model_scores = {}\n",
        "\n",
        "model_KNN = KNeighborsClassifier()\n",
        "model_KNN.fit(X_train_res,y_train_res)\n",
        "model_scores[\"KNN\"] = model_KNN.score(X_test,y_test)\n",
        "\n",
        "svmreg = svm.LinearSVC()\n",
        "svmreg.fit(X_train_res,y_train_res)\n",
        "model_scores[\"SVM\"] = svmreg.score(X_test, y_test)\n",
        "\n",
        "import xgboost as xgb\n",
        "xgb_model = xgb.XGBClassifier()\n",
        "xgb_model.fit(X_train,y_train)\n",
        "model_scores[\"XGB\"] = xgb_model.score(X_test,y_test)\n",
        "\n",
        "Rforrest = RandomForestClassifier(n_estimators = 100)\n",
        "Rforrest.fit(X_train,y_train)\n",
        "model_scores[\"RFC\"] = Rforrest.score(X_test, y_test)\n",
        "\n",
        "import lightgbm as lgb\n",
        "clf = lgb.LGBMClassifier()\n",
        "clf.fit(X_train, y_train)\n",
        "model_scores[\"LGBM\"] = clf.score(X_test, y_test)\n",
        "\n",
        "from sklearn.tree import DecisionTreeClassifier\n",
        "dt = DecisionTreeClassifier(max_depth=6,random_state=1)\n",
        "dt.fit(X_train_res, y_train_res)\n",
        "model_scores[\"DT\"] =dt.score(X_test, y_test)\n",
        "\n",
        "lr = LogisticRegression()\n",
        "lr.fit(X_train_res,y_train_res)\n",
        "model_scores[\"LR\"] = lr.score(X_test,y_test)\n",
        "\n",
        "model = ExtraTreesClassifier(random_state=123)\n",
        "model.fit(X_train, y_train)\n",
        "model_scores[\"ETrees\"] = lr.score(X_test,y_test)\n",
        "\n",
        "model = MLPClassifier()\n",
        "model.fit(X_train, y_train)\n",
        "model_scores[\"MLP\"] = lr.score(X_test,y_test)"
      ],
      "metadata": {
        "id": "4_Vpnv3X3jSf"
      },
      "execution_count": 412,
      "outputs": []
    },
    {
      "cell_type": "code",
      "source": [
        "model_scores"
      ],
      "metadata": {
        "colab": {
          "base_uri": "https://localhost:8080/"
        },
        "id": "ryDFL7zI33po",
        "outputId": "924dbad9-9c07-485e-b997-edac69293352"
      },
      "execution_count": 413,
      "outputs": [
        {
          "output_type": "execute_result",
          "data": {
            "text/plain": [
              "{'KNN': 0.6888888888888889,\n",
              " 'SVM': 0.6388888888888888,\n",
              " 'XGB': 0.7777777777777778,\n",
              " 'RFC': 0.7444444444444445,\n",
              " 'LGBM': 0.7333333333333333,\n",
              " 'DT': 0.7277777777777777,\n",
              " 'LR': 0.6277777777777778,\n",
              " 'ETrees': 0.6277777777777778,\n",
              " 'MLP': 0.6277777777777778}"
            ]
          },
          "metadata": {},
          "execution_count": 413
        }
      ]
    },
    {
      "cell_type": "code",
      "source": [
        "model_compare = pd.DataFrame(model_scores, index=['Accuracy'])\n",
        "\n",
        "model_compare.T.plot.barh(legend=None);\n",
        "plt.title(\"Accuracy of Algorithms\")"
      ],
      "metadata": {
        "colab": {
          "base_uri": "https://localhost:8080/",
          "height": 301
        },
        "id": "IeVwpP0h37gs",
        "outputId": "1ef857c5-ab39-405f-9061-d9978dbc7145"
      },
      "execution_count": 420,
      "outputs": [
        {
          "output_type": "execute_result",
          "data": {
            "text/plain": [
              "Text(0.5, 1.0, 'Accuracy of Algorithms')"
            ]
          },
          "metadata": {},
          "execution_count": 420
        },
        {
          "output_type": "display_data",
          "data": {
            "text/plain": [
              "<Figure size 432x288 with 1 Axes>"
            ],
            "image/png": "[encoded data removed]"
          },
          "metadata": {}
        }
      ]
    },
    {
      "cell_type": "markdown",
      "source": [
        "Making predictions on the test dataset"
      ],
      "metadata": {
        "id": "7PucrL1MO6oQ"
      }
    },
    {
      "cell_type": "code",
      "source": [
        "dgh = tz.copy()\n",
        "dgh.columns\n",
        "dgh = dgh[['Number of people who will provide maintenance',\n",
        "       'Loan History', 'loan amount taken', 'Guarantor or Debtor',\n",
        "       'Number of years of employment',\n",
        "       'Number of loans taken from current bank',\n",
        "       'Age of the applicant in Number of Years', 'amount in current account',\n",
        "       'amount in savings account', '% of income paid as installment',\n",
        "       'Other loans plans taken', 'Working abroad or not',\n",
        "       'time duration for loan', 'Owned property', 'Type of job performed',\n",
        "       'Type of Housing', 'Number of years of stay in current address']]\n",
        "dgh.head(2)"
      ],
      "metadata": {
        "colab": {
          "base_uri": "https://localhost:8080/",
          "height": 280
        },
        "id": "HwKxsLaRGZBd",
        "outputId": "8c06e449-5b0b-4432-a209-cc602b17cd64"
      },
      "execution_count": 415,
      "outputs": [
        {
          "output_type": "execute_result",
          "data": {
            "text/plain": [
              "   Number of people who will provide maintenance  Loan History  \\\n",
              "0                                            1.0           4.0   \n",
              "1                                            1.0           0.0   \n",
              "\n",
              "   loan amount taken  Guarantor or Debtor  Number of years of employment  \\\n",
              "0             1278.0                  0.0                       2.333333   \n",
              "1            11590.0                  0.0                       2.000000   \n",
              "\n",
              "   Number of loans taken from current bank  \\\n",
              "0                                      1.0   \n",
              "1                                      2.0   \n",
              "\n",
              "   Age of the applicant in Number of Years  amount in current account  \\\n",
              "0                                     36.0                        1.0   \n",
              "1                                     24.0                        1.0   \n",
              "\n",
              "   amount in savings account  % of income paid as installment  \\\n",
              "0                        1.0                              4.0   \n",
              "1                        2.0                              2.0   \n",
              "\n",
              "   Other loans plans taken  Working abroad or not  time duration for loan  \\\n",
              "0                      2.0                    1.0                    24.0   \n",
              "1                      1.0                    1.0                    48.0   \n",
              "\n",
              "   Owned property  Type of job performed  Type of Housing  \\\n",
              "0             3.0                    3.0              2.0   \n",
              "1             1.0                    0.0              1.0   \n",
              "\n",
              "   Number of years of stay in current address  \n",
              "0                                         1.0  \n",
              "1                                         4.0  "
            ],
            "text/html": [
              "\n",
              "  <div id=\"df-9d12184d-d13a-4b9a-82b7-84c33ca26f20\">\n",
              "    <div class=\"colab-df-container\">\n",
              "      <div>\n",
              "<style scoped>\n",
              "    .dataframe tbody tr th:only-of-type {\n",
              "        vertical-align: middle;\n",
              "    }\n",
              "\n",
              "    .dataframe tbody tr th {\n",
              "        vertical-align: top;\n",
              "    }\n",
              "\n",
              "    .dataframe thead th {\n",
              "        text-align: right;\n",
              "    }\n",
              "</style>\n",
              "<table border=\"1\" class=\"dataframe\">\n",
              "  <thead>\n",
              "    <tr style=\"text-align: right;\">\n",
              "      <th></th>\n",
              "      <th>Number of people who will provide maintenance</th>\n",
              "      <th>Loan History</th>\n",
              "      <th>loan amount taken</th>\n",
              "      <th>Guarantor or Debtor</th>\n",
              "      <th>Number of years of employment</th>\n",
              "      <th>Number of loans taken from current bank</th>\n",
              "      <th>Age of the applicant in Number of Years</th>\n",
              "      <th>amount in current account</th>\n",
              "      <th>amount in savings account</th>\n",
              "      <th>% of income paid as installment</th>\n",
              "      <th>Other loans plans taken</th>\n",
              "      <th>Working abroad or not</th>\n",
              "      <th>time duration for loan</th>\n",
              "      <th>Owned property</th>\n",
              "      <th>Type of job performed</th>\n",
              "      <th>Type of Housing</th>\n",
              "      <th>Number of years of stay in current address</th>\n",
              "    </tr>\n",
              "  </thead>\n",
              "  <tbody>\n",
              "    <tr>\n",
              "      <th>0</th>\n",
              "      <td>1.0</td>\n",
              "      <td>4.0</td>\n",
              "      <td>1278.0</td>\n",
              "      <td>0.0</td>\n",
              "      <td>2.333333</td>\n",
              "      <td>1.0</td>\n",
              "      <td>36.0</td>\n",
              "      <td>1.0</td>\n",
              "      <td>1.0</td>\n",
              "      <td>4.0</td>\n",
              "      <td>2.0</td>\n",
              "      <td>1.0</td>\n",
              "      <td>24.0</td>\n",
              "      <td>3.0</td>\n",
              "      <td>3.0</td>\n",
              "      <td>2.0</td>\n",
              "      <td>1.0</td>\n",
              "    </tr>\n",
              "    <tr>\n",
              "      <th>1</th>\n",
              "      <td>1.0</td>\n",
              "      <td>0.0</td>\n",
              "      <td>11590.0</td>\n",
              "      <td>0.0</td>\n",
              "      <td>2.000000</td>\n",
              "      <td>2.0</td>\n",
              "      <td>24.0</td>\n",
              "      <td>1.0</td>\n",
              "      <td>2.0</td>\n",
              "      <td>2.0</td>\n",
              "      <td>1.0</td>\n",
              "      <td>1.0</td>\n",
              "      <td>48.0</td>\n",
              "      <td>1.0</td>\n",
              "      <td>0.0</td>\n",
              "      <td>1.0</td>\n",
              "      <td>4.0</td>\n",
              "    </tr>\n",
              "  </tbody>\n",
              "</table>\n",
              "</div>\n",
              "      <button class=\"colab-df-convert\" onclick=\"convertToInteractive('df-9d12184d-d13a-4b9a-82b7-84c33ca26f20')\"\n",
              "              title=\"Convert this dataframe to an interactive table.\"\n",
              "              style=\"display:none;\">\n",
              "        \n",
              "  <svg xmlns=\"http://www.w3.org/2000/svg\" height=\"24px\"viewBox=\"0 0 24 24\"\n",
              "       width=\"24px\">\n",
              "    <path d=\"M0 0h24v24H0V0z\" fill=\"none\"/>\n",
              "    <path d=\"M18.56 5.44l.94 2.06.94-2.06 2.06-.94-2.06-.94-.94-2.06-.94 2.06-2.06.94zm-11 1L8.5 8.5l.94-2.06 2.06-.94-2.06-.94L8.5 2.5l-.94 2.06-2.06.94zm10 10l.94 2.06.94-2.06 2.06-.94-2.06-.94-.94-2.06-.94 2.06-2.06.94z\"/><path d=\"M17.41 7.96l-1.37-1.37c-.4-.4-.92-.59-1.43-.59-.52 0-1.04.2-1.43.59L10.3 9.45l-7.72 7.72c-.78.78-.78 2.05 0 2.83L4 21.41c.39.39.9.59 1.41.59.51 0 1.02-.2 1.41-.59l7.78-7.78 2.81-2.81c.8-.78.8-2.07 0-2.86zM5.41 20L4 18.59l7.72-7.72 1.47 1.35L5.41 20z\"/>\n",
              "  </svg>\n",
              "      </button>\n",
              "      \n",
              "  <style>\n",
              "    .colab-df-container {\n",
              "      display:flex;\n",
              "      flex-wrap:wrap;\n",
              "      gap: 12px;\n",
              "    }\n",
              "\n",
              "    .colab-df-convert {\n",
              "      background-color: #E8F0FE;\n",
              "      border: none;\n",
              "      border-radius: 50%;\n",
              "      cursor: pointer;\n",
              "      display: none;\n",
              "      fill: #1967D2;\n",
              "      height: 32px;\n",
              "      padding: 0 0 0 0;\n",
              "      width: 32px;\n",
              "    }\n",
              "\n",
              "    .colab-df-convert:hover {\n",
              "      background-color: #E2EBFA;\n",
              "      box-shadow: 0px 1px 2px rgba(60, 64, 67, 0.3), 0px 1px 3px 1px rgba(60, 64, 67, 0.15);\n",
              "      fill: #174EA6;\n",
              "    }\n",
              "\n",
              "    [theme=dark] .colab-df-convert {\n",
              "      background-color: #3B4455;\n",
              "      fill: #D2E3FC;\n",
              "    }\n",
              "\n",
              "    [theme=dark] .colab-df-convert:hover {\n",
              "      background-color: #434B5C;\n",
              "      box-shadow: 0px 1px 3px 1px rgba(0, 0, 0, 0.15);\n",
              "      filter: drop-shadow(0px 1px 2px rgba(0, 0, 0, 0.3));\n",
              "      fill: #FFFFFF;\n",
              "    }\n",
              "  </style>\n",
              "\n",
              "      <script>\n",
              "        const buttonEl =\n",
              "          document.querySelector('#df-9d12184d-d13a-4b9a-82b7-84c33ca26f20 button.colab-df-convert');\n",
              "        buttonEl.style.display =\n",
              "          google.colab.kernel.accessAllowed ? 'block' : 'none';\n",
              "\n",
              "        async function convertToInteractive(key) {\n",
              "          const element = document.querySelector('#df-9d12184d-d13a-4b9a-82b7-84c33ca26f20');\n",
              "          const dataTable =\n",
              "            await google.colab.kernel.invokeFunction('convertToInteractive',\n",
              "                                                     [key], {});\n",
              "          if (!dataTable) return;\n",
              "\n",
              "          const docLinkHtml = 'Like what you see? Visit the ' +\n",
              "            '<a target=\"_blank\" href=https://colab.research.google.com/notebooks/data_table.ipynb>data table notebook</a>'\n",
              "            + ' to learn more about interactive tables.';\n",
              "          element.innerHTML = '';\n",
              "          dataTable['output_type'] = 'display_data';\n",
              "          await google.colab.output.renderOutput(dataTable, element);\n",
              "          const docLink = document.createElement('div');\n",
              "          docLink.innerHTML = docLinkHtml;\n",
              "          element.appendChild(docLink);\n",
              "        }\n",
              "      </script>\n",
              "    </div>\n",
              "  </div>\n",
              "  "
            ]
          },
          "metadata": {},
          "execution_count": 415
        }
      ]
    },
    {
      "cell_type": "code",
      "source": [
        "ans = clf.predict(dgh)\n",
        "ans"
      ],
      "metadata": {
        "colab": {
          "base_uri": "https://localhost:8080/"
        },
        "id": "NIAfL3TYC2w8",
        "outputId": "84fa138a-1d1d-4224-e1bb-272331118c0a"
      },
      "execution_count": 416,
      "outputs": [
        {
          "output_type": "execute_result",
          "data": {
            "text/plain": [
              "array([1., 1., 2., 1., 1., 1., 2., 1., 1., 1., 1., 1., 1., 1., 2., 1., 1.,\n",
              "       1., 1., 1., 1., 1., 1., 1., 1., 1., 1., 2., 1., 1., 1., 1., 2., 1.,\n",
              "       1., 1., 1., 1., 1., 2., 1., 1., 1., 2., 1., 1., 1., 1., 1., 2., 1.,\n",
              "       1., 1., 2., 1., 1., 1., 1., 1., 1., 1., 1., 1., 1., 1., 1., 1., 1.,\n",
              "       1., 1., 1., 1., 2., 1., 1., 1., 1., 2., 1., 1., 1., 1., 1., 1., 1.,\n",
              "       2., 1., 2., 1., 1., 1., 2., 1., 1., 1., 1., 1., 1., 1., 1., 2., 1.,\n",
              "       1., 1., 1., 1., 1., 1., 1., 1., 1., 2., 2., 2., 1., 2., 2., 2., 2.,\n",
              "       2., 2., 1., 2., 1., 1., 1., 1., 1., 1., 1., 1., 1., 1., 1., 1., 1.,\n",
              "       1., 2., 1., 1., 2., 1., 1., 2., 2., 2., 2., 1., 1., 1., 2., 1., 2.,\n",
              "       1., 1., 2., 1., 1., 1., 2., 1., 1., 1., 2., 1., 1., 1., 1., 2., 1.,\n",
              "       1., 1., 2., 1., 1., 1., 1., 2., 1., 1., 2., 1., 1., 1., 1., 1., 1.,\n",
              "       1., 2., 2., 1., 1., 1., 1., 1., 1., 1., 1., 1., 1., 1., 2., 1., 2.,\n",
              "       2., 1., 1., 1., 2., 2., 1., 1., 1., 2., 1., 2., 1., 1., 1., 1., 2.,\n",
              "       1., 1., 1., 1., 1., 1., 1., 2., 2., 1., 1., 1., 1., 1., 1., 1., 2.,\n",
              "       1., 1., 2., 1., 1., 2., 1., 1., 1., 2., 1., 1., 2., 1., 1., 2., 2.,\n",
              "       1., 1., 1., 1., 1., 1., 1., 1., 2., 1., 1., 1., 1., 1., 1., 1., 1.,\n",
              "       1., 1., 1., 1., 1., 2., 1., 1., 1., 1., 1., 1., 1., 1., 1., 1., 2.,\n",
              "       1., 1., 1., 1., 1., 1., 2., 2., 1., 1., 1., 1., 2., 1., 2., 1., 1.,\n",
              "       2., 1., 1., 1., 1., 1., 1., 1., 1., 1., 1., 2., 1., 1., 1., 1., 1.,\n",
              "       2., 1., 2., 2., 1., 2., 1., 1., 1., 1., 1., 2., 1., 1., 1., 1., 2.,\n",
              "       1., 1., 2., 2., 1., 1., 2., 2., 1., 1., 1., 2., 1., 1., 2., 2., 1.,\n",
              "       1., 1., 2., 1., 1., 1., 1., 1., 2., 1., 1., 1., 2., 1., 1., 1., 1.,\n",
              "       1., 1., 1., 1., 1., 1., 2., 1., 1., 2., 1., 1., 1., 1., 1., 2., 1.,\n",
              "       2., 1., 1., 1., 1., 1., 1., 1., 1.])"
            ]
          },
          "metadata": {},
          "execution_count": 416
        }
      ]
    },
    {
      "cell_type": "code",
      "source": [
        "res = pd.DataFrame({'': test_data['Unnamed: 0'], 'Loan Defaulted or not': ans})\n",
        "res['Loan Defaulted or not'] = res['Loan Defaulted or not'].astype(int)"
      ],
      "metadata": {
        "id": "QUS-zqRwFL1L"
      },
      "execution_count": 417,
      "outputs": []
    },
    {
      "cell_type": "code",
      "source": [
        "res.to_csv(\"test_answers.csv\",index=False)"
      ],
      "metadata": {
        "id": "Sg5BclGrGrpI"
      },
      "execution_count": 418,
      "outputs": []
    },
    {
      "cell_type": "code",
      "source": [
        "import joblib\n",
        "joblib.dump(xgb_model,\"model.joblib\")"
      ],
      "metadata": {
        "colab": {
          "base_uri": "https://localhost:8080/"
        },
        "id": "_X-zWu0dvMlt",
        "outputId": "68a48cc3-23ac-4545-d13e-1ffbfaa93b04"
      },
      "execution_count": 419,
      "outputs": [
        {
          "output_type": "execute_result",
          "data": {
            "text/plain": [
              "['model.joblib']"
            ]
          },
          "metadata": {},
          "execution_count": 419
        }
      ]
    },
    {
      "cell_type": "markdown",
      "source": [
        "There is a close contest between Random Forest & XGBoost, hence we perform HyperTuning to obtain the best features"
      ],
      "metadata": {
        "id": "Hj_DcncbB2af"
      }
    },
    {
      "cell_type": "markdown",
      "source": [
        "# Final Model"
      ],
      "metadata": {
        "id": "Q39q6vp-yHSK"
      }
    },
    {
      "cell_type": "markdown",
      "source": [
        "# Optimization\n",
        "As our dataset is not too big, we will use GridSearchCV for parameter tuning, in case of large datasets RandomizedSearchCV could be better. "
      ],
      "metadata": {
        "id": "6v656RJmQ72U"
      }
    },
    {
      "cell_type": "code",
      "source": [
        "params = {\n",
        "    'n_estimators': [100, 500],\n",
        "    'criterion': ['gini', 'entropy'],\n",
        "    'max_features': ['auto', 'sqrt', 'log2'],\n",
        "    'max_depth' : [4,5,6,7,8],\n",
        "}\n",
        "\n",
        "gs1 = GridSearchCV(RandomForestClassifier(n_jobs=-1), params, n_jobs=-1, cv=KFold(n_splits=3), scoring='roc_auc')\n",
        "gs1.fit(X_train, y_train)\n",
        "\n",
        "print('Best score:', gs1.best_score_)\n",
        "print('Best score:', gs1.best_params_)"
      ],
      "metadata": {
        "id": "d7yiAzsj0Hr-",
        "colab": {
          "base_uri": "https://localhost:8080/"
        },
        "outputId": "daf25032-7d3f-40a9-e2df-d0b1dfa05bf8"
      },
      "execution_count": 421,
      "outputs": [
        {
          "output_type": "stream",
          "name": "stdout",
          "text": [
            "Best score: 0.7414685463956472\n",
            "Best score: {'criterion': 'entropy', 'max_depth': 6, 'max_features': 'log2', 'n_estimators': 100}\n"
          ]
        }
      ]
    },
    {
      "cell_type": "markdown",
      "source": [
        "XGBoost hyperparamter tuning"
      ],
      "metadata": {
        "id": "1_fviMA6Rfxl"
      }
    },
    {
      "cell_type": "code",
      "source": [
        "params = {\n",
        "    'n_estimators': [100, 200, 500],\n",
        "    'learning_rate': [0.01,0.05,0.1],\n",
        "    'booster': ['gbtree', 'gblinear'],\n",
        "    'gamma': [0, 0.5, 1],\n",
        "    'reg_alpha': [0, 0.5, 1],\n",
        "    'reg_lambda': [0.5, 1, 5],\n",
        "    'base_score': [0.2, 0.5, 1]\n",
        "}\n",
        "\n",
        "gs2 = GridSearchCV(XGBClassifier(n_jobs=-1), params, n_jobs=-1, cv=KFold(n_splits=3), scoring='accuracy')\n",
        "gs2.fit(X_train_res, y_train_res)\n",
        "\n",
        "print('Best score:', gs2.best_score_)\n",
        "print('Best paramters:',gs2.best_params_)"
      ],
      "metadata": {
        "colab": {
          "base_uri": "https://localhost:8080/"
        },
        "id": "kbt9ZysWRFuK",
        "outputId": "fcd977fe-0153-40ea-ada4-a84dd3d1ab4f"
      },
      "execution_count": 422,
      "outputs": [
        {
          "output_type": "stream",
          "name": "stdout",
          "text": [
            "Best score: 0.7326732673267328\n",
            "Best paramters: {'base_score': 0.5, 'booster': 'gbtree', 'gamma': 0, 'learning_rate': 0.1, 'n_estimators': 500, 'reg_alpha': 0, 'reg_lambda': 0.5}\n"
          ]
        }
      ]
    },
    {
      "cell_type": "code",
      "source": [
        "gs2.best_params_"
      ],
      "metadata": {
        "colab": {
          "base_uri": "https://localhost:8080/"
        },
        "id": "vCSAPF8ESpGT",
        "outputId": "39480a12-783b-4c85-8c9b-d1d1e7223f28"
      },
      "execution_count": 423,
      "outputs": [
        {
          "output_type": "execute_result",
          "data": {
            "text/plain": [
              "{'base_score': 0.5,\n",
              " 'booster': 'gbtree',\n",
              " 'gamma': 0,\n",
              " 'learning_rate': 0.1,\n",
              " 'n_estimators': 500,\n",
              " 'reg_alpha': 0,\n",
              " 'reg_lambda': 0.5}"
            ]
          },
          "metadata": {},
          "execution_count": 423
        }
      ]
    },
    {
      "cell_type": "code",
      "source": [
        "from sklearn.model_selection import cross_validate\n",
        "from sklearn.ensemble import VotingClassifier\n",
        "\n",
        "\n",
        "votes = [\n",
        "    ('rf', gs1.best_estimator_),\n",
        "    ('xgb', gs2.best_estimator_)\n",
        "]\n",
        "\n",
        "# soft voting based on weights\n",
        "votesClass = VotingClassifier(estimators=votes, voting='soft', n_jobs=-1)\n",
        "votesClass_cv = cross_validate(votesClass, X_train_res, y_train_res, cv=KFold(3,shuffle=True, random_state=123))\n",
        "votesClass.fit(X_train_res, y_train_res)\n",
        "\n",
        "votesClass_cv"
      ],
      "metadata": {
        "colab": {
          "base_uri": "https://localhost:8080/"
        },
        "id": "Ha08zyhcX0o4",
        "outputId": "a6370895-35e2-4c1b-cf0b-5877b3ffd25a"
      },
      "execution_count": 424,
      "outputs": [
        {
          "output_type": "execute_result",
          "data": {
            "text/plain": [
              "{'fit_time': array([0.31120086, 0.31804347, 0.31098485]),\n",
              " 'score_time': array([0.03070903, 0.03181481, 0.02810526]),\n",
              " 'test_score': array([0.83663366, 0.81683168, 0.78217822])}"
            ]
          },
          "metadata": {},
          "execution_count": 424
        }
      ]
    },
    {
      "cell_type": "code",
      "source": [
        "from sklearn.ensemble import ExtraTreesClassifier\n",
        "\n",
        "model = votesClass\n",
        "#model.fit(X_train, y_train)\n",
        "y_train_hat = model.predict(X_train)\n",
        "y_test_hat = model.predict(X_test)\n",
        "\n",
        "print(model)\n",
        "print('-------------------------------------------------------')\n",
        "print(classification_report(y_train, y_train_hat))\n",
        "\n",
        "print('-------------------------------------------------------')\n",
        "print(classification_report(y_test, y_test_hat))\n",
        "\n",
        "print('Roc_auc score')\n",
        "print('-------------------------------------------------------')\n",
        "print(roc_auc_score(y_test, y_test_hat))\n",
        "print('')\n",
        "\n",
        "print('Confusion matrix')\n",
        "print('-------------------------------------------------------')\n",
        "print(confusion_matrix(y_test, y_test_hat))"
      ],
      "metadata": {
        "colab": {
          "base_uri": "https://localhost:8080/"
        },
        "id": "Qv2VFwY-ZZCy",
        "outputId": "466a4f86-0bf7-48ff-f80d-bc0b40b3a69c"
      },
      "execution_count": 425,
      "outputs": [
        {
          "output_type": "stream",
          "name": "stdout",
          "text": [
            "VotingClassifier(estimators=[('rf',\n",
            "                              RandomForestClassifier(criterion='entropy',\n",
            "                                                     max_depth=6,\n",
            "                                                     max_features='log2',\n",
            "                                                     n_jobs=-1)),\n",
            "                             ('xgb',\n",
            "                              XGBClassifier(n_estimators=500, n_jobs=-1,\n",
            "                                            reg_lambda=0.5))],\n",
            "                 n_jobs=-1, voting='soft')\n",
            "-------------------------------------------------------\n",
            "              precision    recall  f1-score   support\n",
            "\n",
            "         1.0       1.00      1.00      1.00       303\n",
            "         2.0       1.00      0.99      1.00       117\n",
            "\n",
            "    accuracy                           1.00       420\n",
            "   macro avg       1.00      1.00      1.00       420\n",
            "weighted avg       1.00      1.00      1.00       420\n",
            "\n",
            "-------------------------------------------------------\n",
            "              precision    recall  f1-score   support\n",
            "\n",
            "         1.0       0.77      0.83      0.80       119\n",
            "         2.0       0.61      0.51      0.55        61\n",
            "\n",
            "    accuracy                           0.72       180\n",
            "   macro avg       0.69      0.67      0.68       180\n",
            "weighted avg       0.71      0.72      0.72       180\n",
            "\n",
            "Roc_auc score\n",
            "-------------------------------------------------------\n",
            "0.6700647472103595\n",
            "\n",
            "Confusion matrix\n",
            "-------------------------------------------------------\n",
            "[[99 20]\n",
            " [30 31]]\n"
          ]
        }
      ]
    },
    {
      "cell_type": "code",
      "source": [
        "import joblib\n",
        "joblib.dump(model,\"model.joblib\")"
      ],
      "metadata": {
        "colab": {
          "base_uri": "https://localhost:8080/"
        },
        "id": "DVj1UrYl-uoj",
        "outputId": "c693325e-c36a-4d1d-c255-26c92aac947a"
      },
      "execution_count": 426,
      "outputs": [
        {
          "output_type": "execute_result",
          "data": {
            "text/plain": [
              "['model.joblib']"
            ]
          },
          "metadata": {},
          "execution_count": 426
        }
      ]
    },
    {
      "cell_type": "code",
      "source": [
        "# Plotting Confusion Matrix\n",
        "sns.set(font_scale=1.0)\n",
        "def plot_conf_mat(y_test, model,name = \"null\"):\n",
        "    \"\"\"\n",
        "    Plots a confusion matrix using Seaborn's heatmap().\n",
        "    \"\"\"\n",
        "    y_preds = model.predict(X_test)\n",
        "    fig, ax = plt.subplots(figsize=(8, 8))\n",
        "    ax = sns.heatmap(confusion_matrix(y_test, y_preds),\n",
        "                     annot=True, # Annotate the boxes\n",
        "                     cbar=True,\n",
        "\n",
        "                    square = True,\n",
        "                    cmap = 'Blues',\n",
        "                    )\n",
        "    plt.xlabel(\"True Label\")\n",
        "    plt.ylabel(\"Predicted Label\")\n",
        "    plt.title(f\"Confusion Matrix of {name}\")\n",
        "    \n",
        "\n",
        "plot_conf_mat(y_test, model, \"VotingClassifier\")"
      ],
      "metadata": {
        "id": "cZW2xY7t1awd",
        "colab": {
          "base_uri": "https://localhost:8080/",
          "height": 472
        },
        "outputId": "8e37a938-96f5-46dd-8a14-fceb6457b208"
      },
      "execution_count": 427,
      "outputs": [
        {
          "output_type": "display_data",
          "data": {
            "text/plain": [
              "<Figure size 576x576 with 2 Axes>"
            ],
            "image/png": "[encoded data removed]"
          },
          "metadata": {}
        }
      ]
    },
    {
      "cell_type": "markdown",
      "source": [
        "# Explainable AI using SHAP\n",
        "\n",
        "RandomForestClassifier is a blackbox model i.e. difficult to interpret. So now I will be using SHAP(SHapley Additive exPlanations), to understand on what basis is model making prediction. Explainable AI is like performing EDA on model. Using this we try to understand how the model landed on particular predictions."
      ],
      "metadata": {
        "id": "Zd8OjQXX2_PX"
      }
    },
    {
      "cell_type": "code",
      "source": [
        "import shap\n",
        "\n",
        "explainer = shap.TreeExplainer(Rforrest)\n",
        "shap_values = explainer.shap_values(X_test)\n",
        "\n",
        "shap.summary_plot(shap_values[1], X_test)"
      ],
      "metadata": {
        "id": "MYMfoPes2lwS",
        "colab": {
          "base_uri": "https://localhost:8080/",
          "height": 603
        },
        "outputId": "5f0bc409-35d0-437e-bf1b-24653c5c46af"
      },
      "execution_count": 428,
      "outputs": [
        {
          "output_type": "display_data",
          "data": {
            "text/plain": [
              "<Figure size 576x597.6 with 2 Axes>"
            ],
            "image/png": "[encoded data removed]"
          },
          "metadata": {}
        }
      ]
    },
    {
      "cell_type": "markdown",
      "source": [
        "Conclusions\n",
        "\n",
        "- Feature 7 is the most important feature according to the model\n",
        "- The feature 11 has the least impact on the bank deciding to give a loan or not"
      ],
      "metadata": {
        "id": "B7-SPJ7vAk4x"
      }
    },
    {
      "cell_type": "code",
      "source": [
        "my_scaler = joblib.load('minmaxscaler.joblib')\n",
        "model = joblib.load('model.joblib')"
      ],
      "metadata": {
        "id": "yXdi6Qx_eudo"
      },
      "execution_count": 429,
      "outputs": []
    },
    {
      "cell_type": "code",
      "source": [
        "df.head(2)"
      ],
      "metadata": {
        "colab": {
          "base_uri": "https://localhost:8080/",
          "height": 280
        },
        "id": "7LXOAsvz9EPy",
        "outputId": "b6f4d458-8d3b-42b3-bf9b-689e16aaa54a"
      },
      "execution_count": 430,
      "outputs": [
        {
          "output_type": "execute_result",
          "data": {
            "text/plain": [
              "   Number of people who will provide maintenance  Loan History  \\\n",
              "0                                            1.0           0.0   \n",
              "1                                            1.0           4.0   \n",
              "\n",
              "   loan amount taken  Guarantor or Debtor  Number of years of employment  \\\n",
              "0             1028.0                  0.0                            2.0   \n",
              "1            10222.0                  0.0                            3.0   \n",
              "\n",
              "   Number of loans taken from current bank  \\\n",
              "0                                      2.0   \n",
              "1                                      1.0   \n",
              "\n",
              "   Age of the applicant in Number of Years  amount in current account  \\\n",
              "0                                     36.0                        1.0   \n",
              "1                                     37.0                        1.0   \n",
              "\n",
              "   amount in savings account  % of income paid as installment  \\\n",
              "0                        1.0                              4.0   \n",
              "1                        2.0                              4.0   \n",
              "\n",
              "   Other loans plans taken  Working abroad or not  time duration for loan  \\\n",
              "0                      2.0                    1.0                    18.0   \n",
              "1                      0.0                    1.0                    48.0   \n",
              "\n",
              "   Owned property  Type of job performed  Type of Housing  \\\n",
              "0             3.0                    2.0              2.0   \n",
              "1             1.0                    2.0              2.0   \n",
              "\n",
              "   Number of years of stay in current address  Loan Defaulted or not  \n",
              "0                                         3.0                    1.0  \n",
              "1                                         3.0                    1.0  "
            ],
            "text/html": [
              "\n",
              "  <div id=\"df-74d4b8e0-4b68-4abd-8f01-05b0faa8a07b\">\n",
              "    <div class=\"colab-df-container\">\n",
              "      <div>\n",
              "<style scoped>\n",
              "    .dataframe tbody tr th:only-of-type {\n",
              "        vertical-align: middle;\n",
              "    }\n",
              "\n",
              "    .dataframe tbody tr th {\n",
              "        vertical-align: top;\n",
              "    }\n",
              "\n",
              "    .dataframe thead th {\n",
              "        text-align: right;\n",
              "    }\n",
              "</style>\n",
              "<table border=\"1\" class=\"dataframe\">\n",
              "  <thead>\n",
              "    <tr style=\"text-align: right;\">\n",
              "      <th></th>\n",
              "      <th>Number of people who will provide maintenance</th>\n",
              "      <th>Loan History</th>\n",
              "      <th>loan amount taken</th>\n",
              "      <th>Guarantor or Debtor</th>\n",
              "      <th>Number of years of employment</th>\n",
              "      <th>Number of loans taken from current bank</th>\n",
              "      <th>Age of the applicant in Number of Years</th>\n",
              "      <th>amount in current account</th>\n",
              "      <th>amount in savings account</th>\n",
              "      <th>% of income paid as installment</th>\n",
              "      <th>Other loans plans taken</th>\n",
              "      <th>Working abroad or not</th>\n",
              "      <th>time duration for loan</th>\n",
              "      <th>Owned property</th>\n",
              "      <th>Type of job performed</th>\n",
              "      <th>Type of Housing</th>\n",
              "      <th>Number of years of stay in current address</th>\n",
              "      <th>Loan Defaulted or not</th>\n",
              "    </tr>\n",
              "  </thead>\n",
              "  <tbody>\n",
              "    <tr>\n",
              "      <th>0</th>\n",
              "      <td>1.0</td>\n",
              "      <td>0.0</td>\n",
              "      <td>1028.0</td>\n",
              "      <td>0.0</td>\n",
              "      <td>2.0</td>\n",
              "      <td>2.0</td>\n",
              "      <td>36.0</td>\n",
              "      <td>1.0</td>\n",
              "      <td>1.0</td>\n",
              "      <td>4.0</td>\n",
              "      <td>2.0</td>\n",
              "      <td>1.0</td>\n",
              "      <td>18.0</td>\n",
              "      <td>3.0</td>\n",
              "      <td>2.0</td>\n",
              "      <td>2.0</td>\n",
              "      <td>3.0</td>\n",
              "      <td>1.0</td>\n",
              "    </tr>\n",
              "    <tr>\n",
              "      <th>1</th>\n",
              "      <td>1.0</td>\n",
              "      <td>4.0</td>\n",
              "      <td>10222.0</td>\n",
              "      <td>0.0</td>\n",
              "      <td>3.0</td>\n",
              "      <td>1.0</td>\n",
              "      <td>37.0</td>\n",
              "      <td>1.0</td>\n",
              "      <td>2.0</td>\n",
              "      <td>4.0</td>\n",
              "      <td>0.0</td>\n",
              "      <td>1.0</td>\n",
              "      <td>48.0</td>\n",
              "      <td>1.0</td>\n",
              "      <td>2.0</td>\n",
              "      <td>2.0</td>\n",
              "      <td>3.0</td>\n",
              "      <td>1.0</td>\n",
              "    </tr>\n",
              "  </tbody>\n",
              "</table>\n",
              "</div>\n",
              "      <button class=\"colab-df-convert\" onclick=\"convertToInteractive('df-74d4b8e0-4b68-4abd-8f01-05b0faa8a07b')\"\n",
              "              title=\"Convert this dataframe to an interactive table.\"\n",
              "              style=\"display:none;\">\n",
              "        \n",
              "  <svg xmlns=\"http://www.w3.org/2000/svg\" height=\"24px\"viewBox=\"0 0 24 24\"\n",
              "       width=\"24px\">\n",
              "    <path d=\"M0 0h24v24H0V0z\" fill=\"none\"/>\n",
              "    <path d=\"M18.56 5.44l.94 2.06.94-2.06 2.06-.94-2.06-.94-.94-2.06-.94 2.06-2.06.94zm-11 1L8.5 8.5l.94-2.06 2.06-.94-2.06-.94L8.5 2.5l-.94 2.06-2.06.94zm10 10l.94 2.06.94-2.06 2.06-.94-2.06-.94-.94-2.06-.94 2.06-2.06.94z\"/><path d=\"M17.41 7.96l-1.37-1.37c-.4-.4-.92-.59-1.43-.59-.52 0-1.04.2-1.43.59L10.3 9.45l-7.72 7.72c-.78.78-.78 2.05 0 2.83L4 21.41c.39.39.9.59 1.41.59.51 0 1.02-.2 1.41-.59l7.78-7.78 2.81-2.81c.8-.78.8-2.07 0-2.86zM5.41 20L4 18.59l7.72-7.72 1.47 1.35L5.41 20z\"/>\n",
              "  </svg>\n",
              "      </button>\n",
              "      \n",
              "  <style>\n",
              "    .colab-df-container {\n",
              "      display:flex;\n",
              "      flex-wrap:wrap;\n",
              "      gap: 12px;\n",
              "    }\n",
              "\n",
              "    .colab-df-convert {\n",
              "      background-color: #E8F0FE;\n",
              "      border: none;\n",
              "      border-radius: 50%;\n",
              "      cursor: pointer;\n",
              "      display: none;\n",
              "      fill: #1967D2;\n",
              "      height: 32px;\n",
              "      padding: 0 0 0 0;\n",
              "      width: 32px;\n",
              "    }\n",
              "\n",
              "    .colab-df-convert:hover {\n",
              "      background-color: #E2EBFA;\n",
              "      box-shadow: 0px 1px 2px rgba(60, 64, 67, 0.3), 0px 1px 3px 1px rgba(60, 64, 67, 0.15);\n",
              "      fill: #174EA6;\n",
              "    }\n",
              "\n",
              "    [theme=dark] .colab-df-convert {\n",
              "      background-color: #3B4455;\n",
              "      fill: #D2E3FC;\n",
              "    }\n",
              "\n",
              "    [theme=dark] .colab-df-convert:hover {\n",
              "      background-color: #434B5C;\n",
              "      box-shadow: 0px 1px 3px 1px rgba(0, 0, 0, 0.15);\n",
              "      filter: drop-shadow(0px 1px 2px rgba(0, 0, 0, 0.3));\n",
              "      fill: #FFFFFF;\n",
              "    }\n",
              "  </style>\n",
              "\n",
              "      <script>\n",
              "        const buttonEl =\n",
              "          document.querySelector('#df-74d4b8e0-4b68-4abd-8f01-05b0faa8a07b button.colab-df-convert');\n",
              "        buttonEl.style.display =\n",
              "          google.colab.kernel.accessAllowed ? 'block' : 'none';\n",
              "\n",
              "        async function convertToInteractive(key) {\n",
              "          const element = document.querySelector('#df-74d4b8e0-4b68-4abd-8f01-05b0faa8a07b');\n",
              "          const dataTable =\n",
              "            await google.colab.kernel.invokeFunction('convertToInteractive',\n",
              "                                                     [key], {});\n",
              "          if (!dataTable) return;\n",
              "\n",
              "          const docLinkHtml = 'Like what you see? Visit the ' +\n",
              "            '<a target=\"_blank\" href=https://colab.research.google.com/notebooks/data_table.ipynb>data table notebook</a>'\n",
              "            + ' to learn more about interactive tables.';\n",
              "          element.innerHTML = '';\n",
              "          dataTable['output_type'] = 'display_data';\n",
              "          await google.colab.output.renderOutput(dataTable, element);\n",
              "          const docLink = document.createElement('div');\n",
              "          docLink.innerHTML = docLinkHtml;\n",
              "          element.appendChild(docLink);\n",
              "        }\n",
              "      </script>\n",
              "    </div>\n",
              "  </div>\n",
              "  "
            ]
          },
          "metadata": {},
          "execution_count": 430
        }
      ]
    },
    {
      "cell_type": "code",
      "source": [
        "x = my_scaler.transform([df.iloc[3].values[:-1]])\n",
        "x"
      ],
      "metadata": {
        "id": "fpn4XHQndD4a",
        "colab": {
          "base_uri": "https://localhost:8080/"
        },
        "outputId": "3b929403-cace-460b-d2ab-a2f41e8fd85b"
      },
      "execution_count": 431,
      "outputs": [
        {
          "output_type": "execute_result",
          "data": {
            "text/plain": [
              "array([[0.        , 1.        , 0.09221822, 0.        , 0.33333333,\n",
              "        0.        , 0.05357143, 0.66666667, 0.        , 1.        ,\n",
              "        1.        , 1.        , 0.07352941, 0.33333333, 0.66666667,\n",
              "        1.        , 0.33333333]])"
            ]
          },
          "metadata": {},
          "execution_count": 431
        }
      ]
    },
    {
      "cell_type": "code",
      "source": [
        "model.predict(x)"
      ],
      "metadata": {
        "colab": {
          "base_uri": "https://localhost:8080/"
        },
        "id": "LBzJzOWG9IOM",
        "outputId": "777b020e-b226-45f2-ad9d-0e98ed115fac"
      },
      "execution_count": 432,
      "outputs": [
        {
          "output_type": "execute_result",
          "data": {
            "text/plain": [
              "array([2.])"
            ]
          },
          "metadata": {},
          "execution_count": 432
        }
      ]
    },
    {
      "cell_type": "code",
      "source": [
        "y =  my_scaler.transform([df.iloc[6].values[:-1]])\n",
        "y"
      ],
      "metadata": {
        "colab": {
          "base_uri": "https://localhost:8080/"
        },
        "id": "iUZ0g3w6nPtJ",
        "outputId": "f4f1e3b9-8eee-47d1-e59f-d43f5e67b988"
      },
      "execution_count": 433,
      "outputs": [
        {
          "output_type": "execute_result",
          "data": {
            "text/plain": [
              "array([[0.        , 0.        , 0.70195237, 0.        , 1.        ,\n",
              "        0.33333333, 0.41071429, 0.33333333, 0.33333333, 0.33333333,\n",
              "        1.        , 1.        , 0.47058824, 0.        , 0.66666667,\n",
              "        0.        , 1.        ]])"
            ]
          },
          "metadata": {},
          "execution_count": 433
        }
      ]
    },
    {
      "cell_type": "code",
      "source": [
        "model.predict(y)"
      ],
      "metadata": {
        "colab": {
          "base_uri": "https://localhost:8080/"
        },
        "id": "SDDa7k8LnTdp",
        "outputId": "771a70f8-b7d5-456d-a15b-4fc7a2fef41d"
      },
      "execution_count": 434,
      "outputs": [
        {
          "output_type": "execute_result",
          "data": {
            "text/plain": [
              "array([1.])"
            ]
          },
          "metadata": {},
          "execution_count": 434
        }
      ]
    },
    {
      "cell_type": "code",
      "source": [],
      "metadata": {
        "id": "IFtkBMuBOj7K"
      },
      "execution_count": null,
      "outputs": []
    }
  ]
}